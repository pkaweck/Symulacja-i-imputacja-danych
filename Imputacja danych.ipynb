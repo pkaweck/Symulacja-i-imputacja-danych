{
 "cells": [
  {
   "cell_type": "markdown",
   "metadata": {},
   "source": [
    "# Projekt zaliczeniowy SQL, Symulacje, Imputacja danych"
   ]
  },
  {
   "cell_type": "markdown",
   "metadata": {},
   "source": [
    "Autor: Paweł Kawecki;\n",
    "Kierunek: Informatyka i ekonometria II st. niest;\n",
    "Rok akademicki: 2021/22;\n",
    "Numer indeks: 282 639"
   ]
  },
  {
   "cell_type": "markdown",
   "metadata": {},
   "source": [
    "Wykorzystane dane w pracy pochodzą ze strony kaggle, a dokładnie:https://www.kaggle.com/datasets/ahmedshahriarsakib/usa-real-estate-dataset. Dane odnoszą się do informacji o transakcjach przeprowadzonych na rynku nieruchomości w USA. Informacje zawarte w zbiorze danych to status,cena, liczba sypialni, liczba łazienek, powierzchnia działki, adres, ulica, miasto, stan, kod pocztowy, powierzchnia mieszkania, data sprzedaży. "
   ]
  },
  {
   "cell_type": "markdown",
   "metadata": {},
   "source": [
    "# SQL"
   ]
  },
  {
   "cell_type": "markdown",
   "metadata": {},
   "source": [
    "Poniżej przedstawiony jest kod w języku SQL, który posłużył do wyciągnięcia podstawowych informacji o badanym zbiorze danych"
   ]
  },
  {
   "cell_type": "code",
   "execution_count": 1,
   "metadata": {
    "scrolled": true
   },
   "outputs": [
    {
     "ename": "SyntaxError",
     "evalue": "invalid syntax (<ipython-input-1-21185b096c8e>, line 1)",
     "output_type": "error",
     "traceback": [
      "\u001b[1;36m  File \u001b[1;32m\"<ipython-input-1-21185b096c8e>\"\u001b[1;36m, line \u001b[1;32m1\u001b[0m\n\u001b[1;33m    SELECT *\u001b[0m\n\u001b[1;37m             ^\u001b[0m\n\u001b[1;31mSyntaxError\u001b[0m\u001b[1;31m:\u001b[0m invalid syntax\n"
     ]
    }
   ],
   "source": [
    "SELECT * \n",
    "FROM Projekt_zal.dbo.Real_estate\n",
    "\n",
    "--Sprawdzenie braku danych w każdej kolumnie\n",
    "\n",
    "SELECT *\n",
    "FROM Projekt_zal.dbo.Real_estate\n",
    "WHERE price IS NULL\n",
    "\n",
    "SELECT *\n",
    "FROM Projekt_zal.dbo.Real_estate\n",
    "WHERE bed IS NULL\n",
    "\n",
    "SELECT *\n",
    "FROM Projekt_zal.dbo.Real_estate\n",
    "WHERE price IS NULL\n",
    "\n",
    "SELECT *\n",
    "FROM Projekt_zal.dbo.Real_estate\n",
    "WHERE acre_lot IS NULL\n",
    "\n",
    "SELECT *\n",
    "FROM Projekt_zal.dbo.Real_estate\n",
    "WHERE full_address IS NULL\n",
    "\n",
    "SELECT *\n",
    "FROM Projekt_zal.dbo.Real_estate\n",
    "WHERE street IS NULL\n",
    "\n",
    "--Jeden brak dla city - trzeba uzupełnić po weryfikacji o miasto Hopewell Junction\n",
    "SELECT *\n",
    "FROM Projekt_zal.dbo.Real_estate\n",
    "WHERE city IS NULL\n",
    "\n",
    "SELECT *\n",
    "FROM Projekt_zal.dbo.Real_estate\n",
    "WHERE state IS NULL\n",
    "\n",
    "SELECT *\n",
    "FROM Projekt_zal.dbo.Real_estate\n",
    "WHERE zip_code IS NULL\n",
    "\n",
    "SELECT *\n",
    "FROM Projekt_zal.dbo.Real_estate\n",
    "WHERE house_size IS NULL\n",
    "\n",
    "\n",
    "\n",
    "--Uzupełnienie informacji po weryfikacji po zmiennej street\n",
    "--Sprawdzenie przed uaktualnianiem informacji\n",
    "SELECT * FROM Projekt_zal.dbo.Real_estate \n",
    "where street = '641 State Route 82'\n",
    "\n",
    "UPDATE Projekt_zal.dbo.Real_estate\n",
    "SET city = 'Hopewell Junction'\n",
    "WHERE street = '641 State Route 82'\n",
    "\n",
    "SELECT * FROM \n",
    "Projekt_zal.dbo.Real_estate\n",
    "WHERE city = 'Hopewell Junction'\n",
    "\n",
    "--Analiza informacji w naszym zbiorze danych\n",
    "\n",
    "\n",
    "--Cała tabela\n",
    "SELECT * \n",
    "FROM Projekt_zal.dbo.Real_estate\n",
    "\n",
    "--Lista 121 występujących miast dwuczłonowych\n",
    "\n",
    "SELECT DISTINCT city\n",
    "FROM Projekt_zal.dbo.Real_estate\n",
    "WHERE city LIKE '% %' OR city LIKE '%-%'\n",
    "\n",
    "\n",
    "--Liczba wystąpień stanów oraz miast z pierwszą literą alfabetu\n",
    "\n",
    "SELECT LEFT(state,1) as Alphabet,COUNT(*) as 'Liczba_wystapien'\n",
    "FROM Projekt_zal.dbo.Real_estate\n",
    "GROUP BY LEFT(state,1)\n",
    "ORDER BY Liczba_wystapien DESC\n",
    "\n",
    "SELECT LEFT(city,1) as Alphabet,COUNT(*) as 'Liczba_wystapien'\n",
    "FROM Projekt_zal.dbo.Real_estate\n",
    "GROUP BY LEFT(city,1)\n",
    "ORDER BY Liczba_wystapien DESC\n",
    "\n",
    "\n",
    "--Miasta zaczynające się na w różnych przedziałach alfabetu\n",
    "\n",
    "SELECT DISTINCT city \n",
    "FROM Projekt_zal.dbo.Real_estate  \n",
    "WHERE city LIKE '[h-o]%'\n",
    "\n",
    "  \n",
    "SELECT DISTINCT state \n",
    "FROM Projekt_zal.dbo.Real_estate\n",
    "WHERE Rtrim(state) NOT LIKE '%[a-p]'\n",
    "\n",
    "-- Albo \n",
    "SELECT DISTINCT state\n",
    "FROM Projekt_zal.dbo.Real_estate\n",
    "WHERE Rtrim(state) LIKE '%[^a-p]'\n",
    "\n",
    "--Top 10 wystąpień miast oraz stanów\n",
    "\n",
    "SELECT top 10 city, COUNT(*) as 'liczba_wystapien_miast'\n",
    "FROM Projekt_zal.dbo.Real_estate\n",
    "Group By city\n",
    "Order By COUNT(*) DESC\n",
    "\n",
    "SELECT top 10 state, COUNT(*) as 'liczba_wystapien_stanow'\n",
    "FROM Projekt_zal.dbo.Real_estate\n",
    "Group By state\n",
    "Order By COUNT(*) DESC \n",
    "\n",
    "SELECT city, COUNT(*) as 'liczba_wystapien_miast'\n",
    "FROM Projekt_zal.dbo.Real_estate\n",
    "Group By city\n",
    "Order By COUNT(*) DESC\n",
    "\n",
    "--Wprowadzenie kolumny z wyliczeniami z akrów na m2\n",
    "\n",
    "SELECT price, bed, bath, acre_lot, city, acre_lot*4046 as 'm2'\n",
    "FROM Projekt_zal.dbo.Real_estate\n",
    "\n",
    "\n",
    "--Średnia cena nieruchomości dla ilości łazienek, sypialni\n",
    "\n",
    "SELECT bed, ROUND(AVG(price),2) AS 'Srednia_cena_mieszkania'\n",
    "FROM Projekt_zal.dbo.Real_estate\n",
    "Group by bed\n",
    "ORDER BY bed ASC\n",
    "\n",
    "--Średnia cena nieruchoości dla ilosci łazienek oraz przeliczenie ceny na ilość pomieszczeń\n",
    "\n",
    "SELECT bath, ROUND(AVG(price),2) AS 'Srednia_cena_mieszkania', ROUND(AVG(price),2)/bath as 'Cena za sypialnie'\n",
    "FROM Projekt_zal.dbo.Real_estate\n",
    "Group by bath\n",
    "ORDER BY bath ASC\n",
    "\n",
    "\n",
    "--Maksymalna, minimalna i średnia wartość zmiennej Price\n",
    "\n",
    "SELECT MAX(price) as 'Maks_price' , min(price) as 'Min_price', ROUND(AVG(price),2) as 'Srednia_price'\n",
    "FROM Projekt_zal.dbo.Real_estate\n",
    "\n",
    "\n",
    "-- Top 10 stanów z liczbą nieruchomości poniżej średniej\n",
    "\n",
    "SELECT TOP 10 state, COUNT(*) as 'liczba_nieruchomości'\n",
    "FROM Projekt_zal.dbo.Real_estate\n",
    "WHERE price < 858629\n",
    "Group By state\n",
    "Order By COUNT(*) DESC \n",
    "\n",
    "--Top 10 stanów z liczbą nieruchomości powyżej średniej\n",
    "\n",
    "SELECT TOP 10 state, COUNT(*) as 'liczba_nieruchomości'\n",
    "FROM Projekt_zal.dbo.Real_estate\n",
    "WHERE price > 858629\n",
    "Group By state\n",
    "Order By COUNT(*) DESC\n",
    "\n",
    "-- Średnia, minimalna oraz maksymalna cena nieruchomości z podziałem na stan oraz miasto\n",
    "\n",
    "SELECT state, ROUND(AVG(price),2) as 'Srednia_wartosc_nier', max(price) as 'Maksymalna_cena', min(price) as 'Minimalna_cena', Round(AVG(house_size),2) as 'Srd_Pow_nier'\n",
    "FROM Projekt_zal.dbo.Real_estate\n",
    "Group by state\n",
    "Order by AVG(price) DESC\n",
    "\n",
    "SELECT city, ROUND(AVG(price),2) as 'Srednia_wartosc_nier', max(price) as 'Maksymalna_cena', min(price) as 'Minimalna_cena', Round(AVG(house_size),2) as 'Srd_Pow_nier'\n",
    "FROM Projekt_zal.dbo.Real_estate\n",
    "Group by city\n",
    "Order by AVG(price) DESC\n",
    "\n",
    "-- Maksymalna, minimalna oraz średnia powierzchnia nieruchomości\n",
    "\n",
    "SELECT min(house_size) as 'min_pow' , max(house_size) as 'max_pow' , Round(avg(house_size),2) as 'sred_pow'\n",
    "FROM Projekt_zal.dbo.Real_estate\n",
    "\n",
    "--Lista obiektów z powierzchnią pomiędzy 1000 a 2500.\n",
    "\n",
    "SELECT *  \n",
    "FROM Projekt_zal.dbo.Real_estate\n",
    "WHERE house_size BETWEEN 1000 AND 2500\n",
    "\n",
    "--Średnia cena za powierzchnię na unikatowych ulicach\n",
    "\n",
    "SELECT Distinct street, city, state, house_size, Round(price/house_size,2) as 'Srednia_cena_za_m2'\n",
    "From Projekt_zal.dbo.Real_estate\n",
    "Order by Round(price/house_size,2) DESC\"\n",
    "\n"
   ]
  },
  {
   "cell_type": "markdown",
   "metadata": {},
   "source": [
    "# Symulacja"
   ]
  },
  {
   "cell_type": "markdown",
   "metadata": {},
   "source": [
    "Celem tej części pracy jest przeprowadzenie i przedstawienie odbiorcy możliwości wykorzystania symulacji oraz przykładowych sposóbów podejścia do procesu symulowania danych. W tej części będziemy działać na wyczyszczonym z braków zbiorze danych, który później poprzez symulacje zostanie uzupełniony wartościami null i poprzez kolejną symulację dojdzie do wypełnienia wartości, co finalnie ma pozwolić na podsumowanie różnic pomiędzy wynikami prawdziwymi a wynikami zasymulowanymi."
   ]
  },
  {
   "cell_type": "code",
   "execution_count": 3,
   "metadata": {},
   "outputs": [],
   "source": [
    "import pandas as pd\n",
    "from random import sample\n",
    "import random\n",
    "import numpy as np\n",
    "import matplotlib.pyplot as plt\n",
    "df = pd.read_excel('real_estate_USA.xlsx')\n",
    "df = df[['price', 'bed', 'bath', 'acre_lot' ,'house_size']]"
   ]
  },
  {
   "cell_type": "code",
   "execution_count": 4,
   "metadata": {},
   "outputs": [],
   "source": [
    "#Usuwanie braków danych\n",
    "df_no_na = df.dropna()\n",
    "df_with_na = df.dropna()"
   ]
  },
  {
   "cell_type": "code",
   "execution_count": 5,
   "metadata": {
    "scrolled": false
   },
   "outputs": [
    {
     "data": {
      "text/html": [
       "<div>\n",
       "<style scoped>\n",
       "    .dataframe tbody tr th:only-of-type {\n",
       "        vertical-align: middle;\n",
       "    }\n",
       "\n",
       "    .dataframe tbody tr th {\n",
       "        vertical-align: top;\n",
       "    }\n",
       "\n",
       "    .dataframe thead th {\n",
       "        text-align: right;\n",
       "    }\n",
       "</style>\n",
       "<table border=\"1\" class=\"dataframe\">\n",
       "  <thead>\n",
       "    <tr style=\"text-align: right;\">\n",
       "      <th></th>\n",
       "      <th>price</th>\n",
       "      <th>bed</th>\n",
       "      <th>bath</th>\n",
       "      <th>acre_lot</th>\n",
       "      <th>house_size</th>\n",
       "    </tr>\n",
       "  </thead>\n",
       "  <tbody>\n",
       "    <tr>\n",
       "      <th>0</th>\n",
       "      <td>105000</td>\n",
       "      <td>3.0</td>\n",
       "      <td>2.0</td>\n",
       "      <td>0.12</td>\n",
       "      <td>920.0</td>\n",
       "    </tr>\n",
       "    <tr>\n",
       "      <th>1</th>\n",
       "      <td>80000</td>\n",
       "      <td>4.0</td>\n",
       "      <td>2.0</td>\n",
       "      <td>0.08</td>\n",
       "      <td>1527.0</td>\n",
       "    </tr>\n",
       "    <tr>\n",
       "      <th>2</th>\n",
       "      <td>67000</td>\n",
       "      <td>2.0</td>\n",
       "      <td>1.0</td>\n",
       "      <td>0.15</td>\n",
       "      <td>748.0</td>\n",
       "    </tr>\n",
       "    <tr>\n",
       "      <th>3</th>\n",
       "      <td>145000</td>\n",
       "      <td>4.0</td>\n",
       "      <td>2.0</td>\n",
       "      <td>0.10</td>\n",
       "      <td>1800.0</td>\n",
       "    </tr>\n",
       "    <tr>\n",
       "      <th>5</th>\n",
       "      <td>179000</td>\n",
       "      <td>4.0</td>\n",
       "      <td>3.0</td>\n",
       "      <td>0.46</td>\n",
       "      <td>2520.0</td>\n",
       "    </tr>\n",
       "    <tr>\n",
       "      <th>...</th>\n",
       "      <td>...</td>\n",
       "      <td>...</td>\n",
       "      <td>...</td>\n",
       "      <td>...</td>\n",
       "      <td>...</td>\n",
       "    </tr>\n",
       "    <tr>\n",
       "      <th>202983</th>\n",
       "      <td>2500000</td>\n",
       "      <td>3.0</td>\n",
       "      <td>2.0</td>\n",
       "      <td>0.62</td>\n",
       "      <td>1536.0</td>\n",
       "    </tr>\n",
       "    <tr>\n",
       "      <th>202984</th>\n",
       "      <td>1995000</td>\n",
       "      <td>1.0</td>\n",
       "      <td>1.0</td>\n",
       "      <td>0.05</td>\n",
       "      <td>700.0</td>\n",
       "    </tr>\n",
       "    <tr>\n",
       "      <th>202985</th>\n",
       "      <td>3495000</td>\n",
       "      <td>6.0</td>\n",
       "      <td>5.0</td>\n",
       "      <td>1.22</td>\n",
       "      <td>5302.0</td>\n",
       "    </tr>\n",
       "    <tr>\n",
       "      <th>202987</th>\n",
       "      <td>2999000</td>\n",
       "      <td>3.0</td>\n",
       "      <td>4.0</td>\n",
       "      <td>0.36</td>\n",
       "      <td>2314.0</td>\n",
       "    </tr>\n",
       "    <tr>\n",
       "      <th>202988</th>\n",
       "      <td>7800000</td>\n",
       "      <td>4.0</td>\n",
       "      <td>4.0</td>\n",
       "      <td>0.91</td>\n",
       "      <td>3563.0</td>\n",
       "    </tr>\n",
       "  </tbody>\n",
       "</table>\n",
       "<p>120395 rows × 5 columns</p>\n",
       "</div>"
      ],
      "text/plain": [
       "          price  bed  bath  acre_lot  house_size\n",
       "0        105000  3.0   2.0      0.12       920.0\n",
       "1         80000  4.0   2.0      0.08      1527.0\n",
       "2         67000  2.0   1.0      0.15       748.0\n",
       "3        145000  4.0   2.0      0.10      1800.0\n",
       "5        179000  4.0   3.0      0.46      2520.0\n",
       "...         ...  ...   ...       ...         ...\n",
       "202983  2500000  3.0   2.0      0.62      1536.0\n",
       "202984  1995000  1.0   1.0      0.05       700.0\n",
       "202985  3495000  6.0   5.0      1.22      5302.0\n",
       "202987  2999000  3.0   4.0      0.36      2314.0\n",
       "202988  7800000  4.0   4.0      0.91      3563.0\n",
       "\n",
       "[120395 rows x 5 columns]"
      ]
     },
     "execution_count": 5,
     "metadata": {},
     "output_type": "execute_result"
    }
   ],
   "source": [
    "#Tabela bez braków danych\n",
    "df_no_na"
   ]
  },
  {
   "cell_type": "code",
   "execution_count": 6,
   "metadata": {},
   "outputs": [
    {
     "data": {
      "text/plain": [
       "price             0\n",
       "bed           31101\n",
       "bath          30229\n",
       "acre_lot      52038\n",
       "house_size    29610\n",
       "dtype: int64"
      ]
     },
     "metadata": {},
     "output_type": "display_data"
    },
    {
     "data": {
      "text/plain": [
       "price         0\n",
       "bed           0\n",
       "bath          0\n",
       "acre_lot      0\n",
       "house_size    0\n",
       "dtype: int64"
      ]
     },
     "metadata": {},
     "output_type": "display_data"
    }
   ],
   "source": [
    "display(df.isna().sum(), df_no_na.isna().sum())"
   ]
  },
  {
   "cell_type": "markdown",
   "metadata": {},
   "source": [
    "**Symulacja imputacji braków zmiennych**"
   ]
  },
  {
   "cell_type": "code",
   "execution_count": 7,
   "metadata": {
    "scrolled": true
   },
   "outputs": [],
   "source": [
    "#Lista kolumn \n",
    "set1 = {0,1, 2, 3, 4}"
   ]
  },
  {
   "cell_type": "code",
   "execution_count": 8,
   "metadata": {},
   "outputs": [
    {
     "name": "stderr",
     "output_type": "stream",
     "text": [
      "<ipython-input-8-22dcb0d817c8>:5: DeprecationWarning: Sampling from a set deprecated\n",
      "since Python 3.9 and will be removed in a subsequent version.\n",
      "  b = sample(set1,1)\n",
      "c:\\users\\paweł\\appdata\\local\\programs\\python\\python39\\lib\\site-packages\\pandas\\core\\indexing.py:1720: SettingWithCopyWarning: \n",
      "A value is trying to be set on a copy of a slice from a DataFrame.\n",
      "Try using .loc[row_indexer,col_indexer] = value instead\n",
      "\n",
      "See the caveats in the documentation: https://pandas.pydata.org/pandas-docs/stable/user_guide/indexing.html#returning-a-view-versus-a-copy\n",
      "  self._setitem_single_column(loc, value, pi)\n"
     ]
    }
   ],
   "source": [
    "#Kod symulacji uzupełnienia 10 000  komórek pustymi wartościami\n",
    "try:\n",
    "    counter = 0\n",
    "    while counter < 10001:\n",
    "        b = sample(set1,1)\n",
    "        a = random.sample(range(1, 120000), 1)\n",
    "        df_no_na.iloc[a,b] = np.nan\n",
    "        counter = counter + 1\n",
    "except Exception:\n",
    "    pass\n"
   ]
  },
  {
   "cell_type": "code",
   "execution_count": 9,
   "metadata": {
    "scrolled": false
   },
   "outputs": [
    {
     "data": {
      "text/plain": [
       "price         1985\n",
       "bed           1986\n",
       "bath          2000\n",
       "acre_lot      2015\n",
       "house_size    1941\n",
       "dtype: int64"
      ]
     },
     "execution_count": 9,
     "metadata": {},
     "output_type": "execute_result"
    }
   ],
   "source": [
    "df_no_na.isna().sum()"
   ]
  },
  {
   "cell_type": "code",
   "execution_count": 10,
   "metadata": {},
   "outputs": [
    {
     "data": {
      "text/plain": [
       "price         0\n",
       "bed           0\n",
       "bath          0\n",
       "acre_lot      0\n",
       "house_size    0\n",
       "dtype: int64"
      ]
     },
     "execution_count": 10,
     "metadata": {},
     "output_type": "execute_result"
    }
   ],
   "source": [
    "df_with_na.isna().sum()"
   ]
  },
  {
   "cell_type": "markdown",
   "metadata": {},
   "source": [
    "Powyżej zastosowana została symulacja stochastyczna imputacji wartości Nan. Braki danych zostały zaimputowane w sposób losowy dla 10 000 komórek."
   ]
  },
  {
   "cell_type": "markdown",
   "metadata": {},
   "source": [
    "**Symulacja imputacji wartości w braki danych**"
   ]
  },
  {
   "cell_type": "code",
   "execution_count": 11,
   "metadata": {
    "scrolled": true
   },
   "outputs": [
    {
     "data": {
      "text/plain": [
       "price         1985\n",
       "bed           1986\n",
       "bath          2000\n",
       "acre_lot      2015\n",
       "house_size    1941\n",
       "dtype: int64"
      ]
     },
     "execution_count": 11,
     "metadata": {},
     "output_type": "execute_result"
    }
   ],
   "source": [
    "df_no_na.isna().sum()"
   ]
  },
  {
   "cell_type": "markdown",
   "metadata": {},
   "source": [
    "Powyżej przedstawiona została liczba braków wartości dla poszczególnych kolumn w naszym zbiorze danych. Celem tej części jest imputacja wartości losowych, które będą brane z przedziały kwantyli 30% oraz 97%."
   ]
  },
  {
   "cell_type": "code",
   "execution_count": 12,
   "metadata": {},
   "outputs": [],
   "source": [
    "x1 = int(df_with_na['price'].quantile(0.30))\n",
    "x2 = int(df_with_na['price'].quantile(0.97))\n",
    "x3 = int(df_with_na['bed'].quantile(0.30))\n",
    "x4 = int(df_with_na['bed'].quantile(0.97))\n",
    "x5 = int(df_with_na['bath'].quantile(0.30))\n",
    "x6 = int(df_with_na['bath'].quantile(0.97))\n",
    "x7 = int(df_with_na['acre_lot'].quantile(0.30))\n",
    "x8 = int(df_with_na['acre_lot'].quantile(0.97))\n",
    "x9 = int(df_with_na['house_size'].quantile(0.30))\n",
    "x10 = int(df_with_na['house_size'].quantile(0.97))"
   ]
  },
  {
   "cell_type": "code",
   "execution_count": 13,
   "metadata": {
    "scrolled": true
   },
   "outputs": [],
   "source": [
    "list_1 = np.where(df_no_na['price'].isnull())[0]\n",
    "list_2 = np.where(df_no_na['bed'].isnull())[0]\n",
    "list_3 = np.where(df_no_na['bath'].isnull())[0]\n",
    "list_4 = np.where(df_no_na['acre_lot'].isnull())[0]\n",
    "list_5 = np.where(df_no_na['house_size'].isnull())[0]\n",
    "list_1_got = list_1.tolist()\n",
    "list_2_got = list_2.tolist()\n",
    "list_3_got = list_3.tolist()\n",
    "list_4_got = list_4.tolist()\n",
    "list_5_got = list_5.tolist()"
   ]
  },
  {
   "cell_type": "code",
   "execution_count": 14,
   "metadata": {
    "scrolled": true
   },
   "outputs": [
    {
     "name": "stderr",
     "output_type": "stream",
     "text": [
      "c:\\users\\paweł\\appdata\\local\\programs\\python\\python39\\lib\\site-packages\\pandas\\core\\indexing.py:1700: SettingWithCopyWarning: \n",
      "A value is trying to be set on a copy of a slice from a DataFrame.\n",
      "Try using .loc[row_indexer,col_indexer] = value instead\n",
      "\n",
      "See the caveats in the documentation: https://pandas.pydata.org/pandas-docs/stable/user_guide/indexing.html#returning-a-view-versus-a-copy\n",
      "  self._setitem_single_column(loc, v, pi)\n"
     ]
    }
   ],
   "source": [
    "#Imputacja losowych wartości do komórek wcześniej uzupełnionych Nan\n",
    "for i in list_1_got:\n",
    "    a = random.sample(range(x1, x2), 1)\n",
    "    df_no_na.iloc[i,0] = a\n",
    "for i in list_2_got:\n",
    "    a = random.sample(range(x3, x4), 1)\n",
    "    df_no_na.iloc[i,1] = a\n",
    "for i in list_3_got:\n",
    "    a = random.sample(range(x5, x6), 1)\n",
    "    df_no_na.iloc[i,2] = a\n",
    "for i in list_4_got:\n",
    "    a = random.sample(range(x7, x8), 1)\n",
    "    df_no_na.iloc[i,3] = a\n",
    "for i in list_5_got:\n",
    "    a = random.sample(range(x9, x10), 1)\n",
    "    df_no_na.iloc[i,4] = a "
   ]
  },
  {
   "cell_type": "code",
   "execution_count": 15,
   "metadata": {
    "scrolled": false
   },
   "outputs": [
    {
     "data": {
      "text/plain": [
       "price         0\n",
       "bed           0\n",
       "bath          0\n",
       "acre_lot      0\n",
       "house_size    0\n",
       "dtype: int64"
      ]
     },
     "execution_count": 15,
     "metadata": {},
     "output_type": "execute_result"
    }
   ],
   "source": [
    "#Potwierdzenie uzupełnienia braków\n",
    "df_no_na.isna().sum()"
   ]
  },
  {
   "cell_type": "code",
   "execution_count": 16,
   "metadata": {
    "scrolled": true
   },
   "outputs": [],
   "source": [
    "#Porównanie wartości realnych z wartościami symulowanymi w sposób losowy\n",
    "a_list = []\n",
    "b_list = []\n",
    "c_list = []\n",
    "for i in list_1_got:\n",
    "    a_list.append(df_with_na.iloc[i,0])\n",
    "    b_list.append(df_no_na.iloc[i,0])\n",
    "    c_list.append(df_with_na.iloc[i,0]- df_no_na.iloc[i,0])"
   ]
  },
  {
   "cell_type": "code",
   "execution_count": 17,
   "metadata": {},
   "outputs": [
    {
     "name": "stdout",
     "output_type": "stream",
     "text": [
      "Wartość średniej różnicy zmiennej price wyniosła: -1287399.696725441\n"
     ]
    }
   ],
   "source": [
    "df_list_1 = pd.DataFrame({'Realne': a_list, 'Symulacja': b_list, 'Różnica': c_list})\n",
    "print(f'Wartość średniej różnicy zmiennej price wyniosła: {df_list_1.Różnica.mean()}')"
   ]
  },
  {
   "cell_type": "code",
   "execution_count": 18,
   "metadata": {
    "scrolled": true
   },
   "outputs": [
    {
     "name": "stdout",
     "output_type": "stream",
     "text": [
      "Wartość średniej różnicy bed wyniosła: -1.4144008056394763\n"
     ]
    }
   ],
   "source": [
    "a_list = []\n",
    "b_list = []\n",
    "c_list = []\n",
    "for i in list_2_got:\n",
    "    a_list.append(df_with_na.iloc[i,1])\n",
    "    b_list.append(df_no_na.iloc[i,1])\n",
    "    c_list.append(df_with_na.iloc[i,1]- df_no_na.iloc[i,1])\n",
    "    \n",
    "df_list_2 = pd.DataFrame({'Realne': a_list, 'Symulacja': b_list, 'Różnica': c_list})\n",
    "print(f'Wartość średniej różnicy bed wyniosła: {df_list_2.Różnica.mean()}')\n"
   ]
  },
  {
   "cell_type": "code",
   "execution_count": 19,
   "metadata": {
    "scrolled": true
   },
   "outputs": [
    {
     "name": "stdout",
     "output_type": "stream",
     "text": [
      "Wartość średniej różnicy bath wyniosła: -1.2762167586552935\n"
     ]
    }
   ],
   "source": [
    "for i in list_3_got:\n",
    "    a_list.append(df_with_na.iloc[i,2])\n",
    "    b_list.append(df_no_na.iloc[i,2])\n",
    "    c_list.append(df_with_na.iloc[i,2]- df_no_na.iloc[i,2])\n",
    "    \n",
    "df_list_3 = pd.DataFrame({'Realne': a_list, 'Symulacja': b_list, 'Różnica': c_list})\n",
    "print(f'Wartość średniej różnicy bath wyniosła: {df_list_3.Różnica.mean()}')"
   ]
  },
  {
   "cell_type": "code",
   "execution_count": 20,
   "metadata": {},
   "outputs": [
    {
     "name": "stdout",
     "output_type": "stream",
     "text": [
      "Wartość średniej różnicy acre_lot wyniosła: 0.22320446592234594\n"
     ]
    }
   ],
   "source": [
    "for i in list_4_got:\n",
    "    a_list.append(df_with_na.iloc[i,3])\n",
    "    b_list.append(df_no_na.iloc[i,3])\n",
    "    c_list.append(df_with_na.iloc[i,3]- df_no_na.iloc[i,3])\n",
    "    \n",
    "df_list_4 = pd.DataFrame({'Realne': a_list, 'Symulacja': b_list, 'Różnica': c_list})\n",
    "print(f'Wartość średniej różnicy acre_lot wyniosła: {df_list_4.Różnica.mean()}')"
   ]
  },
  {
   "cell_type": "code",
   "execution_count": 21,
   "metadata": {
    "scrolled": true
   },
   "outputs": [
    {
     "name": "stdout",
     "output_type": "stream",
     "text": [
      "Wartość średniej różnicy house_size wyniosła: -416.82593175522544\n"
     ]
    }
   ],
   "source": [
    "for i in list_5_got:\n",
    "    a_list.append(df_with_na.iloc[i,4])\n",
    "    b_list.append(df_no_na.iloc[i,4])\n",
    "    c_list.append(df_with_na.iloc[i,4]- df_no_na.iloc[i,4])\n",
    "    \n",
    "df_list_5 = pd.DataFrame({'Realne': a_list, 'Symulacja': b_list, 'Różnica': c_list})\n",
    "print(f'Wartość średniej różnicy house_size wyniosła: {df_list_5.Różnica.mean()}')"
   ]
  },
  {
   "cell_type": "code",
   "execution_count": 22,
   "metadata": {
    "scrolled": false
   },
   "outputs": [
    {
     "data": {
      "image/png": "[encoded data removed]",
      "text/plain": [
       "<Figure size 720x360 with 4 Axes>"
      ]
     },
     "metadata": {
      "needs_background": "light"
     },
     "output_type": "display_data"
    }
   ],
   "source": [
    "fig, ((ax1,ax2), (ax3,ax4)) = plt.subplots(nrows = 2,\n",
    "                                          ncols = 2,\n",
    "                                          figsize = (10,5))\n",
    "\n",
    "ax1.hist(df_with_na.bed, range=[0,40])\n",
    "ax1.set_title('Zmienna bed przed imputacją')\n",
    "ax2.hist(df_no_na.bed, range = [0,60])\n",
    "ax2.set_title('Zmienna bed po imputacji')\n",
    "      \n",
    "ax3.hist(df_with_na.bath, range=[0,40])\n",
    "ax3.set_title('Zmienna bath przed imputacją')\n",
    "ax4.hist(df_no_na.bath, range = [0,60])\n",
    "ax4.set_title('Zmienna bath po imputacji')\n",
    "\n",
    "\n",
    "fig.tight_layout()\n",
    "plt.subplots_adjust(left=0.1,\n",
    "                    bottom=0.1, \n",
    "                    right=0.9, \n",
    "                    top=1.3, \n",
    "                    wspace=0.4, \n",
    "                    hspace=0.4)\n",
    "plt.show()"
   ]
  },
  {
   "cell_type": "markdown",
   "metadata": {},
   "source": [
    "Powyżej przedstawiony został rozkład dla zmiennej bed oraz bath przed oraz po imputacji wartości poprzez symulację. Jak możemy zauważyć rozkłady obu zmiennych widocznie się zmieniły poprzez zwiększenie się liczby wystąpień wartości mniejszych niż w realnych wynikach. Wyraźnie jest to widoczne dla zmiennej bed, gdzie większość wartości skupiła się w granicach 0-5. Dla zmiennej bath zwiększyła się liczebność 0-5 oraz zmniejszyła 5-10."
   ]
  },
  {
   "cell_type": "code",
   "execution_count": 23,
   "metadata": {
    "scrolled": false
   },
   "outputs": [
    {
     "data": {
      "image/png": "[encoded data removed]",
      "text/plain": [
       "<Figure size 720x360 with 4 Axes>"
      ]
     },
     "metadata": {
      "needs_background": "light"
     },
     "output_type": "display_data"
    }
   ],
   "source": [
    "fig, ((ax1,ax2), (ax3,ax4)) = plt.subplots(nrows = 2,\n",
    "                                          ncols = 2,\n",
    "                                          figsize = (10,5))\n",
    "\n",
    "ax1.hist(df_with_na.price)\n",
    "ax1.set_title('Zmienna price przed imputacją')\n",
    "ax2.hist(df_no_na.price)\n",
    "ax2.set_title('Zmienna price po imputacji')\n",
    "      \n",
    "ax3.hist(df_with_na.acre_lot, range=[0,40])\n",
    "ax3.set_title('Zmienna acre_lot przed imputacją')\n",
    "ax4.hist(df_no_na.acre_lot, range = [0,60])\n",
    "ax4.set_title('Zmienna acre_lot po imputacji')\n",
    "\n",
    "\n",
    "fig.tight_layout()\n",
    "plt.subplots_adjust(left=0.1,\n",
    "                    bottom=0.1, \n",
    "                    right=0.9, \n",
    "                    top=1.3, \n",
    "                    wspace=0.4, \n",
    "                    hspace=0.4)\n",
    "plt.show()"
   ]
  },
  {
   "cell_type": "markdown",
   "metadata": {},
   "source": [
    "Powyżej przedstawione zostały rozkłady zmiennej price oraz acre_lot przed i po imputacji wartości procesem symulacji. Rozkład zmiennej price oraz acre_lot nie został mocno zmienienione. oznacza to, że większość wartości została przyporządkowana do poprawnych przedziałów, ale nie oznacza to, że wartości się pokrywają."
   ]
  },
  {
   "cell_type": "code",
   "execution_count": 24,
   "metadata": {},
   "outputs": [
    {
     "data": {
      "image/png": "[encoded data removed]",
      "text/plain": [
       "<Figure size 720x360 with 2 Axes>"
      ]
     },
     "metadata": {
      "needs_background": "light"
     },
     "output_type": "display_data"
    }
   ],
   "source": [
    "fig, ((ax1,ax2)) = plt.subplots(nrows = 2,\n",
    "                                          ncols = 1,\n",
    "                                          figsize = (10,5))\n",
    "\n",
    "ax1.hist(df_with_na.house_size, range=[0,25000])\n",
    "ax1.set_title('Zmienna house_size przed imputacją')\n",
    "ax2.hist(df_no_na.house_size, range = [0,25000])\n",
    "ax2.set_title('Zmienna house_size po imputacji')\n",
    "\n",
    "\n",
    "fig.tight_layout()\n",
    "plt.subplots_adjust(left=0.1,\n",
    "                    bottom=0.1, \n",
    "                    right=0.9, \n",
    "                    top=1.3, \n",
    "                    wspace=0.4, \n",
    "                    hspace=0.4)\n",
    "plt.show()"
   ]
  },
  {
   "cell_type": "markdown",
   "metadata": {},
   "source": [
    "Ostatni histogram odnosi się do rozkładu zmiennej house_size. Ponownie widać, że wartości pod względem przedziałów zostały zasymulowane w sposób poprawny. Niemniej jednak średni błąd wartości wynosił około -400, dlatego musimy być świadomi wystepowania znacznych błędów symulacji."
   ]
  },
  {
   "cell_type": "markdown",
   "metadata": {},
   "source": [
    "Podsumowując symulacje, przedstawione zostało porównanie wyników realnych z zasymulowanymi dla brakujących danych. Jak możemy zauważyć symulacja oparta na losowej wartości dla percentyli od 30-97% przynosi bardzo słabe efekty pod względem poprawności wyników. Niemniej jednak jest to symulacja przeprowadzona na danych, które nie zostały wyczyszczone. W przypadku takiej symulacji wymagane by było przeprowadzenie odpowiedniego czyszczenia danych poprzez odrzucenie wartości odstających, co doporowadziło by do innych przedziałów losowania wartości dla percentyli 30-97%."
   ]
  },
  {
   "cell_type": "markdown",
   "metadata": {},
   "source": [
    "# Imputacja danych"
   ]
  },
  {
   "cell_type": "markdown",
   "metadata": {},
   "source": [
    "Celem tej części pracy jest wykorzystanie różnych metod statystycznych w celu poprawnego uzupełnienia brakujących danych dla naszych zmiennych liczbowych. W niniejszej części będę prezentował możliwości zastosowania wybranych metod oraz opisywał ich wpływ na wyniki zbioru danych"
   ]
  },
  {
   "cell_type": "code",
   "execution_count": 25,
   "metadata": {},
   "outputs": [],
   "source": [
    "import pandas as pd\n",
    "import numpy as np\n",
    "import seaborn as sns\n",
    "import matplotlib.pyplot as plt\n",
    "import math\n",
    "%matplotlib inline"
   ]
  },
  {
   "cell_type": "code",
   "execution_count": 26,
   "metadata": {},
   "outputs": [],
   "source": [
    "df = pd.read_excel('real_estate_USA.xlsx')"
   ]
  },
  {
   "cell_type": "code",
   "execution_count": 27,
   "metadata": {},
   "outputs": [],
   "source": [
    "#Usunięcie zmiennych, które nie są potrzebne w analizie danych\n",
    "df = df[['status', 'price', 'bed', 'bath', 'acre_lot', 'full_address', 'street',\n",
    "       'city', 'state', 'house_size']]"
   ]
  },
  {
   "cell_type": "code",
   "execution_count": 28,
   "metadata": {
    "scrolled": false
   },
   "outputs": [
    {
     "data": {
      "text/html": [
       "<div>\n",
       "<style scoped>\n",
       "    .dataframe tbody tr th:only-of-type {\n",
       "        vertical-align: middle;\n",
       "    }\n",
       "\n",
       "    .dataframe tbody tr th {\n",
       "        vertical-align: top;\n",
       "    }\n",
       "\n",
       "    .dataframe thead th {\n",
       "        text-align: right;\n",
       "    }\n",
       "</style>\n",
       "<table border=\"1\" class=\"dataframe\">\n",
       "  <thead>\n",
       "    <tr style=\"text-align: right;\">\n",
       "      <th></th>\n",
       "      <th>status</th>\n",
       "      <th>price</th>\n",
       "      <th>bed</th>\n",
       "      <th>bath</th>\n",
       "      <th>acre_lot</th>\n",
       "      <th>full_address</th>\n",
       "      <th>street</th>\n",
       "      <th>city</th>\n",
       "      <th>state</th>\n",
       "      <th>house_size</th>\n",
       "    </tr>\n",
       "  </thead>\n",
       "  <tbody>\n",
       "    <tr>\n",
       "      <th>0</th>\n",
       "      <td>for_sale</td>\n",
       "      <td>105000</td>\n",
       "      <td>3.0</td>\n",
       "      <td>2.0</td>\n",
       "      <td>0.12</td>\n",
       "      <td>Sector Yahuecas Titulo # V84, Adjuntas, PR, 00601</td>\n",
       "      <td>Sector Yahuecas Titulo # V84</td>\n",
       "      <td>Adjuntas</td>\n",
       "      <td>Puerto Rico</td>\n",
       "      <td>920.0</td>\n",
       "    </tr>\n",
       "    <tr>\n",
       "      <th>1</th>\n",
       "      <td>for_sale</td>\n",
       "      <td>80000</td>\n",
       "      <td>4.0</td>\n",
       "      <td>2.0</td>\n",
       "      <td>0.08</td>\n",
       "      <td>Km 78 9 Carr # 135, Adjuntas, PR, 00601</td>\n",
       "      <td>Km 78 9 Carr # 135</td>\n",
       "      <td>Adjuntas</td>\n",
       "      <td>Puerto Rico</td>\n",
       "      <td>1527.0</td>\n",
       "    </tr>\n",
       "    <tr>\n",
       "      <th>2</th>\n",
       "      <td>for_sale</td>\n",
       "      <td>67000</td>\n",
       "      <td>2.0</td>\n",
       "      <td>1.0</td>\n",
       "      <td>0.15</td>\n",
       "      <td>556G 556-G 16 St, Juana Diaz, PR, 00795</td>\n",
       "      <td>556G 556-G 16 St</td>\n",
       "      <td>Juana Diaz</td>\n",
       "      <td>Puerto Rico</td>\n",
       "      <td>748.0</td>\n",
       "    </tr>\n",
       "    <tr>\n",
       "      <th>3</th>\n",
       "      <td>for_sale</td>\n",
       "      <td>145000</td>\n",
       "      <td>4.0</td>\n",
       "      <td>2.0</td>\n",
       "      <td>0.10</td>\n",
       "      <td>R5 Comunidad El Paraso Calle De Oro R-5 Ponce,...</td>\n",
       "      <td>R5 Comunidad El Paraso Calle De Oro R-5 Ponce</td>\n",
       "      <td>Ponce</td>\n",
       "      <td>Puerto Rico</td>\n",
       "      <td>1800.0</td>\n",
       "    </tr>\n",
       "    <tr>\n",
       "      <th>4</th>\n",
       "      <td>for_sale</td>\n",
       "      <td>65000</td>\n",
       "      <td>6.0</td>\n",
       "      <td>2.0</td>\n",
       "      <td>0.05</td>\n",
       "      <td>14 Navarro, Mayaguez, PR, 00680</td>\n",
       "      <td>14 Navarro</td>\n",
       "      <td>Mayaguez</td>\n",
       "      <td>Puerto Rico</td>\n",
       "      <td>NaN</td>\n",
       "    </tr>\n",
       "    <tr>\n",
       "      <th>...</th>\n",
       "      <td>...</td>\n",
       "      <td>...</td>\n",
       "      <td>...</td>\n",
       "      <td>...</td>\n",
       "      <td>...</td>\n",
       "      <td>...</td>\n",
       "      <td>...</td>\n",
       "      <td>...</td>\n",
       "      <td>...</td>\n",
       "      <td>...</td>\n",
       "    </tr>\n",
       "    <tr>\n",
       "      <th>202984</th>\n",
       "      <td>for_sale</td>\n",
       "      <td>1995000</td>\n",
       "      <td>1.0</td>\n",
       "      <td>1.0</td>\n",
       "      <td>0.05</td>\n",
       "      <td>1 Lowell Pl, Nantucket, MA, 02554</td>\n",
       "      <td>1 Lowell Pl</td>\n",
       "      <td>Nantucket</td>\n",
       "      <td>Massachusetts</td>\n",
       "      <td>700.0</td>\n",
       "    </tr>\n",
       "    <tr>\n",
       "      <th>202985</th>\n",
       "      <td>for_sale</td>\n",
       "      <td>3495000</td>\n",
       "      <td>6.0</td>\n",
       "      <td>5.0</td>\n",
       "      <td>1.22</td>\n",
       "      <td>35 Pine Crest Dr, Nantucket, MA, 02554</td>\n",
       "      <td>35 Pine Crest Dr</td>\n",
       "      <td>Nantucket</td>\n",
       "      <td>Massachusetts</td>\n",
       "      <td>5302.0</td>\n",
       "    </tr>\n",
       "    <tr>\n",
       "      <th>202986</th>\n",
       "      <td>for_sale</td>\n",
       "      <td>2400000</td>\n",
       "      <td>NaN</td>\n",
       "      <td>1.0</td>\n",
       "      <td>0.08</td>\n",
       "      <td>584 Main St, Chatham, MA, 02633</td>\n",
       "      <td>584 Main St</td>\n",
       "      <td>Chatham</td>\n",
       "      <td>Massachusetts</td>\n",
       "      <td>2328.0</td>\n",
       "    </tr>\n",
       "    <tr>\n",
       "      <th>202987</th>\n",
       "      <td>for_sale</td>\n",
       "      <td>2999000</td>\n",
       "      <td>3.0</td>\n",
       "      <td>4.0</td>\n",
       "      <td>0.36</td>\n",
       "      <td>35 Whistler Ln, Chatham, MA, 02633</td>\n",
       "      <td>35 Whistler Ln</td>\n",
       "      <td>Chatham</td>\n",
       "      <td>Massachusetts</td>\n",
       "      <td>2314.0</td>\n",
       "    </tr>\n",
       "    <tr>\n",
       "      <th>202988</th>\n",
       "      <td>for_sale</td>\n",
       "      <td>7800000</td>\n",
       "      <td>4.0</td>\n",
       "      <td>4.0</td>\n",
       "      <td>0.91</td>\n",
       "      <td>500 Shore Rd, Chatham, MA, 02633</td>\n",
       "      <td>500 Shore Rd</td>\n",
       "      <td>Chatham</td>\n",
       "      <td>Massachusetts</td>\n",
       "      <td>3563.0</td>\n",
       "    </tr>\n",
       "  </tbody>\n",
       "</table>\n",
       "<p>202989 rows × 10 columns</p>\n",
       "</div>"
      ],
      "text/plain": [
       "          status    price  bed  bath  acre_lot  \\\n",
       "0       for_sale   105000  3.0   2.0      0.12   \n",
       "1       for_sale    80000  4.0   2.0      0.08   \n",
       "2       for_sale    67000  2.0   1.0      0.15   \n",
       "3       for_sale   145000  4.0   2.0      0.10   \n",
       "4       for_sale    65000  6.0   2.0      0.05   \n",
       "...          ...      ...  ...   ...       ...   \n",
       "202984  for_sale  1995000  1.0   1.0      0.05   \n",
       "202985  for_sale  3495000  6.0   5.0      1.22   \n",
       "202986  for_sale  2400000  NaN   1.0      0.08   \n",
       "202987  for_sale  2999000  3.0   4.0      0.36   \n",
       "202988  for_sale  7800000  4.0   4.0      0.91   \n",
       "\n",
       "                                             full_address  \\\n",
       "0       Sector Yahuecas Titulo # V84, Adjuntas, PR, 00601   \n",
       "1                 Km 78 9 Carr # 135, Adjuntas, PR, 00601   \n",
       "2                 556G 556-G 16 St, Juana Diaz, PR, 00795   \n",
       "3       R5 Comunidad El Paraso Calle De Oro R-5 Ponce,...   \n",
       "4                         14 Navarro, Mayaguez, PR, 00680   \n",
       "...                                                   ...   \n",
       "202984                  1 Lowell Pl, Nantucket, MA, 02554   \n",
       "202985             35 Pine Crest Dr, Nantucket, MA, 02554   \n",
       "202986                    584 Main St, Chatham, MA, 02633   \n",
       "202987                 35 Whistler Ln, Chatham, MA, 02633   \n",
       "202988                   500 Shore Rd, Chatham, MA, 02633   \n",
       "\n",
       "                                               street        city  \\\n",
       "0                        Sector Yahuecas Titulo # V84    Adjuntas   \n",
       "1                                  Km 78 9 Carr # 135    Adjuntas   \n",
       "2                                    556G 556-G 16 St  Juana Diaz   \n",
       "3       R5 Comunidad El Paraso Calle De Oro R-5 Ponce       Ponce   \n",
       "4                                          14 Navarro    Mayaguez   \n",
       "...                                               ...         ...   \n",
       "202984                                    1 Lowell Pl   Nantucket   \n",
       "202985                               35 Pine Crest Dr   Nantucket   \n",
       "202986                                    584 Main St     Chatham   \n",
       "202987                                 35 Whistler Ln     Chatham   \n",
       "202988                                   500 Shore Rd     Chatham   \n",
       "\n",
       "                state  house_size  \n",
       "0         Puerto Rico       920.0  \n",
       "1         Puerto Rico      1527.0  \n",
       "2         Puerto Rico       748.0  \n",
       "3         Puerto Rico      1800.0  \n",
       "4         Puerto Rico         NaN  \n",
       "...               ...         ...  \n",
       "202984  Massachusetts       700.0  \n",
       "202985  Massachusetts      5302.0  \n",
       "202986  Massachusetts      2328.0  \n",
       "202987  Massachusetts      2314.0  \n",
       "202988  Massachusetts      3563.0  \n",
       "\n",
       "[202989 rows x 10 columns]"
      ]
     },
     "execution_count": 28,
     "metadata": {},
     "output_type": "execute_result"
    }
   ],
   "source": [
    "#Nasz zbiór danych z brakami\n",
    "df"
   ]
  },
  {
   "cell_type": "markdown",
   "metadata": {},
   "source": [
    "**Liczba braków danych**"
   ]
  },
  {
   "cell_type": "code",
   "execution_count": 29,
   "metadata": {
    "scrolled": true
   },
   "outputs": [
    {
     "data": {
      "text/plain": [
       "status              0\n",
       "price               0\n",
       "bed             31101\n",
       "bath            30229\n",
       "acre_lot        52038\n",
       "full_address        0\n",
       "street              0\n",
       "city                0\n",
       "state               0\n",
       "house_size      29610\n",
       "dtype: int64"
      ]
     },
     "execution_count": 29,
     "metadata": {},
     "output_type": "execute_result"
    }
   ],
   "source": [
    "#Liczba braków danych dla różnych zmiennych\n",
    "df.isna().sum()"
   ]
  },
  {
   "cell_type": "code",
   "execution_count": 30,
   "metadata": {},
   "outputs": [
    {
     "name": "stdout",
     "output_type": "stream",
     "text": [
      "Brak danych dla zmiennej status wynosi: 0.0 %\n",
      "Brak danych dla zmiennej price wynosi: 0.0 %\n",
      "Brak danych dla zmiennej bed wynosi: 0.15311261538461537 %\n",
      "Brak danych dla zmiennej bath wynosi: 0.14881969230769232 %\n",
      "Brak danych dla zmiennej acre_lot wynosi: 0.2561870769230769 %\n",
      "Brak danych dla zmiennej full_address wynosi: 0.0 %\n",
      "Brak danych dla zmiennej street wynosi: 0.0 %\n",
      "Brak danych dla zmiennej city wynosi: 0.0 %\n",
      "Brak danych dla zmiennej state wynosi: 0.0 %\n",
      "Brak danych dla zmiennej house_size wynosi: 0.1457723076923077 %\n"
     ]
    }
   ],
   "source": [
    "#Procentowy udział braku danych w liczbie zmiennych\n",
    "\n",
    "feature = df.columns\n",
    "\n",
    "for i in feature:\n",
    "    \n",
    "    print(f'Brak danych dla zmiennej {i} wynosi: {df[i].isna().sum()/203125} %')\n",
    "    \n",
    " "
   ]
  },
  {
   "cell_type": "markdown",
   "metadata": {},
   "source": [
    "Widaż, iż najwyższa wartość braku danych jest dla zmiennej acre_lot. Potem w okolicach 15% dla zmiennej bed, house_size, bath."
   ]
  },
  {
   "cell_type": "code",
   "execution_count": 31,
   "metadata": {
    "scrolled": false
   },
   "outputs": [
    {
     "data": {
      "image/png": "[encoded data removed]",
      "text/plain": [
       "<Figure size 1800x720 with 2 Axes>"
      ]
     },
     "metadata": {
      "needs_background": "light"
     },
     "output_type": "display_data"
    }
   ],
   "source": [
    "import missingno as msno\n",
    "\n",
    "ax = msno.matrix(df)"
   ]
  },
  {
   "cell_type": "markdown",
   "metadata": {},
   "source": [
    "Powyższa grafika służy przedstawieniu w sposób wizualny występowanie braków danych dla różnych zmiennych. Im większa jest ilość kresk białych w czarnym pasie tym więcej jest braków występujących dla danej zmiennej."
   ]
  },
  {
   "cell_type": "code",
   "execution_count": 32,
   "metadata": {},
   "outputs": [
    {
     "name": "stdout",
     "output_type": "stream",
     "text": [
      "Brak danych dla zmiennej status wynosi: 0.0 %\n",
      "Brak danych dla zmiennej price wynosi: 0.0 %\n",
      "Brak danych dla zmiennej bed wynosi: 0.15311261538461537 %\n",
      "Brak danych dla zmiennej bath wynosi: 0.14881969230769232 %\n",
      "Brak danych dla zmiennej acre_lot wynosi: 0.2561870769230769 %\n",
      "Brak danych dla zmiennej full_address wynosi: 0.0 %\n",
      "Brak danych dla zmiennej street wynosi: 0.0 %\n",
      "Brak danych dla zmiennej city wynosi: 0.0 %\n",
      "Brak danych dla zmiennej state wynosi: 0.0 %\n",
      "Brak danych dla zmiennej house_size wynosi: 0.1457723076923077 %\n"
     ]
    }
   ],
   "source": [
    "#Procentowy udział braku danych w liczbie zmiennych\n",
    "\n",
    "feature = df.columns\n",
    "\n",
    "for i in feature:\n",
    "    \n",
    "    print(f'Brak danych dla zmiennej {i} wynosi: {df[i].isna().sum()/203125} %')"
   ]
  },
  {
   "cell_type": "markdown",
   "metadata": {},
   "source": [
    "Dane, które będą imputować w naszym zbiorze danych to zmienne liczbowe: bed, bath, acre_lot oraz house_size"
   ]
  },
  {
   "cell_type": "markdown",
   "metadata": {},
   "source": [
    "**Imputacja wartością średnią**"
   ]
  },
  {
   "cell_type": "markdown",
   "metadata": {},
   "source": [
    "Pierwszą metodą imputacji będzie uzupełnienie brakujących zmiennych wartościami średnimi dla wybranej kolumny. Jest to jedna z najprostszych metod imputacji danych. Ta metoda może być stosowana dla zmiennych przedstawianych w formie skali ilościowej oraz porządkowej. Największą zaletą tej metody jest jej prostota. Niestety cechuje się ona wieloma wadami w postaci np. dużej częstości jednej wartości dla zmiennej ciągłej."
   ]
  },
  {
   "cell_type": "code",
   "execution_count": 33,
   "metadata": {
    "scrolled": true
   },
   "outputs": [
    {
     "data": {
      "text/html": [
       "<div>\n",
       "<style scoped>\n",
       "    .dataframe tbody tr th:only-of-type {\n",
       "        vertical-align: middle;\n",
       "    }\n",
       "\n",
       "    .dataframe tbody tr th {\n",
       "        vertical-align: top;\n",
       "    }\n",
       "\n",
       "    .dataframe thead th {\n",
       "        text-align: right;\n",
       "    }\n",
       "</style>\n",
       "<table border=\"1\" class=\"dataframe\">\n",
       "  <thead>\n",
       "    <tr style=\"text-align: right;\">\n",
       "      <th></th>\n",
       "      <th>price</th>\n",
       "      <th>bed</th>\n",
       "      <th>bath</th>\n",
       "      <th>acre_lot</th>\n",
       "      <th>house_size</th>\n",
       "    </tr>\n",
       "  </thead>\n",
       "  <tbody>\n",
       "    <tr>\n",
       "      <th>count</th>\n",
       "      <td>2.029890e+05</td>\n",
       "      <td>171888.000000</td>\n",
       "      <td>172760.000000</td>\n",
       "      <td>150951.000000</td>\n",
       "      <td>1.733790e+05</td>\n",
       "    </tr>\n",
       "    <tr>\n",
       "      <th>mean</th>\n",
       "      <td>8.685731e+05</td>\n",
       "      <td>3.534406</td>\n",
       "      <td>2.619935</td>\n",
       "      <td>8.727829</td>\n",
       "      <td>2.234515e+03</td>\n",
       "    </tr>\n",
       "    <tr>\n",
       "      <th>std</th>\n",
       "      <td>1.434062e+06</td>\n",
       "      <td>2.697086</td>\n",
       "      <td>2.939548</td>\n",
       "      <td>634.875814</td>\n",
       "      <td>4.222224e+03</td>\n",
       "    </tr>\n",
       "    <tr>\n",
       "      <th>min</th>\n",
       "      <td>1.000000e+00</td>\n",
       "      <td>1.000000</td>\n",
       "      <td>1.000000</td>\n",
       "      <td>0.000000</td>\n",
       "      <td>1.000000e+02</td>\n",
       "    </tr>\n",
       "    <tr>\n",
       "      <th>25%</th>\n",
       "      <td>2.499000e+05</td>\n",
       "      <td>2.000000</td>\n",
       "      <td>2.000000</td>\n",
       "      <td>0.130000</td>\n",
       "      <td>1.152000e+03</td>\n",
       "    </tr>\n",
       "    <tr>\n",
       "      <th>50%</th>\n",
       "      <td>5.199000e+05</td>\n",
       "      <td>3.000000</td>\n",
       "      <td>2.000000</td>\n",
       "      <td>0.330000</td>\n",
       "      <td>1.727000e+03</td>\n",
       "    </tr>\n",
       "    <tr>\n",
       "      <th>75%</th>\n",
       "      <td>8.899000e+05</td>\n",
       "      <td>4.000000</td>\n",
       "      <td>3.000000</td>\n",
       "      <td>1.140000</td>\n",
       "      <td>2.634000e+03</td>\n",
       "    </tr>\n",
       "    <tr>\n",
       "      <th>max</th>\n",
       "      <td>6.000000e+07</td>\n",
       "      <td>99.000000</td>\n",
       "      <td>198.000000</td>\n",
       "      <td>100000.000000</td>\n",
       "      <td>1.450112e+06</td>\n",
       "    </tr>\n",
       "  </tbody>\n",
       "</table>\n",
       "</div>"
      ],
      "text/plain": [
       "              price            bed           bath       acre_lot    house_size\n",
       "count  2.029890e+05  171888.000000  172760.000000  150951.000000  1.733790e+05\n",
       "mean   8.685731e+05       3.534406       2.619935       8.727829  2.234515e+03\n",
       "std    1.434062e+06       2.697086       2.939548     634.875814  4.222224e+03\n",
       "min    1.000000e+00       1.000000       1.000000       0.000000  1.000000e+02\n",
       "25%    2.499000e+05       2.000000       2.000000       0.130000  1.152000e+03\n",
       "50%    5.199000e+05       3.000000       2.000000       0.330000  1.727000e+03\n",
       "75%    8.899000e+05       4.000000       3.000000       1.140000  2.634000e+03\n",
       "max    6.000000e+07      99.000000     198.000000  100000.000000  1.450112e+06"
      ]
     },
     "execution_count": 33,
     "metadata": {},
     "output_type": "execute_result"
    }
   ],
   "source": [
    "df.describe()"
   ]
  },
  {
   "cell_type": "code",
   "execution_count": 34,
   "metadata": {
    "scrolled": false
   },
   "outputs": [
    {
     "data": {
      "image/png": "[encoded data removed]",
      "text/plain": [
       "<Figure size 720x360 with 4 Axes>"
      ]
     },
     "metadata": {
      "needs_background": "light"
     },
     "output_type": "display_data"
    }
   ],
   "source": [
    "fig, ((ax1,ax2), (ax3,ax4)) = plt.subplots(nrows = 2,\n",
    "                                          ncols = 2,\n",
    "                                          figsize = (10,5))\n",
    "\n",
    "ax1.hist(df.bed, range=[0,40])\n",
    "ax1.set_title('Bed')\n",
    "ax2.hist(df.bath, range = [0,60])\n",
    "ax2.set_title('Bath')\n",
    "ax3.hist(df.price, range = [0,30000000])\n",
    "ax3.set_title('Price')\n",
    "ax4.hist(df.acre_lot, range = [0,10])\n",
    "ax4.set_title('Acre_lot')\n",
    "\n",
    "fig.tight_layout()\n",
    "plt.subplots_adjust(left=0.1,\n",
    "                    bottom=0.1, \n",
    "                    right=0.9, \n",
    "                    top=1.3, \n",
    "                    wspace=0.4, \n",
    "                    hspace=0.4)\n",
    "plt.show()"
   ]
  },
  {
   "cell_type": "code",
   "execution_count": 35,
   "metadata": {
    "scrolled": false
   },
   "outputs": [
    {
     "data": {
      "image/png": "[encoded data removed]",
      "text/plain": [
       "<Figure size 432x288 with 1 Axes>"
      ]
     },
     "metadata": {
      "needs_background": "light"
     },
     "output_type": "display_data"
    }
   ],
   "source": [
    "a =plt.hist(df.house_size, range = [0,25000])\n",
    "a =plt.title('Housing size')\n"
   ]
  },
  {
   "cell_type": "markdown",
   "metadata": {},
   "source": [
    "*Powyżej przedstawione zostały aktualne rozkłady dla wszystkich naszych zmiennych branych do badania. W celu lepszej jakościowo prezentacji, wartości na skali x zostały zmniejszone do najczęściej występujących wartości.*"
   ]
  },
  {
   "cell_type": "code",
   "execution_count": 36,
   "metadata": {},
   "outputs": [],
   "source": [
    "#proces imputacji wartości średniej\n",
    "\n",
    "df2 = df[['price', 'bed', 'bath', 'acre_lot' ,'house_size']]\n"
   ]
  },
  {
   "cell_type": "code",
   "execution_count": 37,
   "metadata": {},
   "outputs": [],
   "source": [
    "df3= df2.apply(lambda x: x.fillna(x.mean()),axis=0)"
   ]
  },
  {
   "cell_type": "code",
   "execution_count": 38,
   "metadata": {},
   "outputs": [
    {
     "data": {
      "text/plain": [
       "price             0\n",
       "bed           31101\n",
       "bath          30229\n",
       "acre_lot      52038\n",
       "house_size    29610\n",
       "dtype: int64"
      ]
     },
     "execution_count": 38,
     "metadata": {},
     "output_type": "execute_result"
    }
   ],
   "source": [
    "df2.isna().sum()"
   ]
  },
  {
   "cell_type": "code",
   "execution_count": 39,
   "metadata": {},
   "outputs": [
    {
     "data": {
      "text/plain": [
       "price         0\n",
       "bed           0\n",
       "bath          0\n",
       "acre_lot      0\n",
       "house_size    0\n",
       "dtype: int64"
      ]
     },
     "execution_count": 39,
     "metadata": {},
     "output_type": "execute_result"
    }
   ],
   "source": [
    "df3.isna().sum()"
   ]
  },
  {
   "cell_type": "code",
   "execution_count": 40,
   "metadata": {
    "scrolled": false
   },
   "outputs": [
    {
     "data": {
      "text/html": [
       "<div>\n",
       "<style scoped>\n",
       "    .dataframe tbody tr th:only-of-type {\n",
       "        vertical-align: middle;\n",
       "    }\n",
       "\n",
       "    .dataframe tbody tr th {\n",
       "        vertical-align: top;\n",
       "    }\n",
       "\n",
       "    .dataframe thead th {\n",
       "        text-align: right;\n",
       "    }\n",
       "</style>\n",
       "<table border=\"1\" class=\"dataframe\">\n",
       "  <thead>\n",
       "    <tr style=\"text-align: right;\">\n",
       "      <th></th>\n",
       "      <th>price</th>\n",
       "      <th>bed</th>\n",
       "      <th>bath</th>\n",
       "      <th>acre_lot</th>\n",
       "      <th>house_size</th>\n",
       "    </tr>\n",
       "  </thead>\n",
       "  <tbody>\n",
       "    <tr>\n",
       "      <th>count</th>\n",
       "      <td>2.029890e+05</td>\n",
       "      <td>171888.000000</td>\n",
       "      <td>172760.000000</td>\n",
       "      <td>150951.000000</td>\n",
       "      <td>1.733790e+05</td>\n",
       "    </tr>\n",
       "    <tr>\n",
       "      <th>mean</th>\n",
       "      <td>8.685731e+05</td>\n",
       "      <td>3.534406</td>\n",
       "      <td>2.619935</td>\n",
       "      <td>8.727829</td>\n",
       "      <td>2.234515e+03</td>\n",
       "    </tr>\n",
       "    <tr>\n",
       "      <th>std</th>\n",
       "      <td>1.434062e+06</td>\n",
       "      <td>2.697086</td>\n",
       "      <td>2.939548</td>\n",
       "      <td>634.875814</td>\n",
       "      <td>4.222224e+03</td>\n",
       "    </tr>\n",
       "    <tr>\n",
       "      <th>min</th>\n",
       "      <td>1.000000e+00</td>\n",
       "      <td>1.000000</td>\n",
       "      <td>1.000000</td>\n",
       "      <td>0.000000</td>\n",
       "      <td>1.000000e+02</td>\n",
       "    </tr>\n",
       "    <tr>\n",
       "      <th>25%</th>\n",
       "      <td>2.499000e+05</td>\n",
       "      <td>2.000000</td>\n",
       "      <td>2.000000</td>\n",
       "      <td>0.130000</td>\n",
       "      <td>1.152000e+03</td>\n",
       "    </tr>\n",
       "    <tr>\n",
       "      <th>50%</th>\n",
       "      <td>5.199000e+05</td>\n",
       "      <td>3.000000</td>\n",
       "      <td>2.000000</td>\n",
       "      <td>0.330000</td>\n",
       "      <td>1.727000e+03</td>\n",
       "    </tr>\n",
       "    <tr>\n",
       "      <th>75%</th>\n",
       "      <td>8.899000e+05</td>\n",
       "      <td>4.000000</td>\n",
       "      <td>3.000000</td>\n",
       "      <td>1.140000</td>\n",
       "      <td>2.634000e+03</td>\n",
       "    </tr>\n",
       "    <tr>\n",
       "      <th>max</th>\n",
       "      <td>6.000000e+07</td>\n",
       "      <td>99.000000</td>\n",
       "      <td>198.000000</td>\n",
       "      <td>100000.000000</td>\n",
       "      <td>1.450112e+06</td>\n",
       "    </tr>\n",
       "  </tbody>\n",
       "</table>\n",
       "</div>"
      ],
      "text/plain": [
       "              price            bed           bath       acre_lot    house_size\n",
       "count  2.029890e+05  171888.000000  172760.000000  150951.000000  1.733790e+05\n",
       "mean   8.685731e+05       3.534406       2.619935       8.727829  2.234515e+03\n",
       "std    1.434062e+06       2.697086       2.939548     634.875814  4.222224e+03\n",
       "min    1.000000e+00       1.000000       1.000000       0.000000  1.000000e+02\n",
       "25%    2.499000e+05       2.000000       2.000000       0.130000  1.152000e+03\n",
       "50%    5.199000e+05       3.000000       2.000000       0.330000  1.727000e+03\n",
       "75%    8.899000e+05       4.000000       3.000000       1.140000  2.634000e+03\n",
       "max    6.000000e+07      99.000000     198.000000  100000.000000  1.450112e+06"
      ]
     },
     "metadata": {},
     "output_type": "display_data"
    },
    {
     "data": {
      "text/html": [
       "<div>\n",
       "<style scoped>\n",
       "    .dataframe tbody tr th:only-of-type {\n",
       "        vertical-align: middle;\n",
       "    }\n",
       "\n",
       "    .dataframe tbody tr th {\n",
       "        vertical-align: top;\n",
       "    }\n",
       "\n",
       "    .dataframe thead th {\n",
       "        text-align: right;\n",
       "    }\n",
       "</style>\n",
       "<table border=\"1\" class=\"dataframe\">\n",
       "  <thead>\n",
       "    <tr style=\"text-align: right;\">\n",
       "      <th></th>\n",
       "      <th>price</th>\n",
       "      <th>bed</th>\n",
       "      <th>bath</th>\n",
       "      <th>acre_lot</th>\n",
       "      <th>house_size</th>\n",
       "    </tr>\n",
       "  </thead>\n",
       "  <tbody>\n",
       "    <tr>\n",
       "      <th>count</th>\n",
       "      <td>2.029890e+05</td>\n",
       "      <td>202989.000000</td>\n",
       "      <td>202989.000000</td>\n",
       "      <td>202989.000000</td>\n",
       "      <td>2.029890e+05</td>\n",
       "    </tr>\n",
       "    <tr>\n",
       "      <th>mean</th>\n",
       "      <td>8.685731e+05</td>\n",
       "      <td>3.534406</td>\n",
       "      <td>2.619935</td>\n",
       "      <td>8.727829</td>\n",
       "      <td>2.234515e+03</td>\n",
       "    </tr>\n",
       "    <tr>\n",
       "      <th>std</th>\n",
       "      <td>1.434062e+06</td>\n",
       "      <td>2.481882</td>\n",
       "      <td>2.711851</td>\n",
       "      <td>547.482396</td>\n",
       "      <td>3.902142e+03</td>\n",
       "    </tr>\n",
       "    <tr>\n",
       "      <th>min</th>\n",
       "      <td>1.000000e+00</td>\n",
       "      <td>1.000000</td>\n",
       "      <td>1.000000</td>\n",
       "      <td>0.000000</td>\n",
       "      <td>1.000000e+02</td>\n",
       "    </tr>\n",
       "    <tr>\n",
       "      <th>25%</th>\n",
       "      <td>2.499000e+05</td>\n",
       "      <td>2.000000</td>\n",
       "      <td>2.000000</td>\n",
       "      <td>0.190000</td>\n",
       "      <td>1.232000e+03</td>\n",
       "    </tr>\n",
       "    <tr>\n",
       "      <th>50%</th>\n",
       "      <td>5.199000e+05</td>\n",
       "      <td>3.000000</td>\n",
       "      <td>2.000000</td>\n",
       "      <td>0.770000</td>\n",
       "      <td>1.978000e+03</td>\n",
       "    </tr>\n",
       "    <tr>\n",
       "      <th>75%</th>\n",
       "      <td>8.899000e+05</td>\n",
       "      <td>4.000000</td>\n",
       "      <td>3.000000</td>\n",
       "      <td>8.727829</td>\n",
       "      <td>2.443000e+03</td>\n",
       "    </tr>\n",
       "    <tr>\n",
       "      <th>max</th>\n",
       "      <td>6.000000e+07</td>\n",
       "      <td>99.000000</td>\n",
       "      <td>198.000000</td>\n",
       "      <td>100000.000000</td>\n",
       "      <td>1.450112e+06</td>\n",
       "    </tr>\n",
       "  </tbody>\n",
       "</table>\n",
       "</div>"
      ],
      "text/plain": [
       "              price            bed           bath       acre_lot    house_size\n",
       "count  2.029890e+05  202989.000000  202989.000000  202989.000000  2.029890e+05\n",
       "mean   8.685731e+05       3.534406       2.619935       8.727829  2.234515e+03\n",
       "std    1.434062e+06       2.481882       2.711851     547.482396  3.902142e+03\n",
       "min    1.000000e+00       1.000000       1.000000       0.000000  1.000000e+02\n",
       "25%    2.499000e+05       2.000000       2.000000       0.190000  1.232000e+03\n",
       "50%    5.199000e+05       3.000000       2.000000       0.770000  1.978000e+03\n",
       "75%    8.899000e+05       4.000000       3.000000       8.727829  2.443000e+03\n",
       "max    6.000000e+07      99.000000     198.000000  100000.000000  1.450112e+06"
      ]
     },
     "metadata": {},
     "output_type": "display_data"
    }
   ],
   "source": [
    "#Null został zastąpiony wartością średnią\n",
    "#Czas na describe\n",
    "\n",
    "display(df2.describe(), df3.describe())\n"
   ]
  },
  {
   "cell_type": "markdown",
   "metadata": {},
   "source": [
    "Powyżej przedstawione zostały wartości podstawowych statystyk opisowych dla tabeli posiadającej braki danych oraz dla tabeli z zaimputowanymi metodą wartości średnich (tabela poniżej). Jak widać odchylenie standardowe zmniejszyło się dla większości zmiennych, a najbardziej dla zmiennej acre_lot, co jest dobrym rezultatem, ale też do przewidzenia, gdyż zmniejszyła się odległość od średniej dla wartości. Reszta statystyk również znacząco się zmniejszyła np. percentyle, co wynika z dołożenia dużej ilości tych samych wartości."
   ]
  },
  {
   "cell_type": "code",
   "execution_count": 41,
   "metadata": {
    "scrolled": false
   },
   "outputs": [
    {
     "data": {
      "image/png": "[encoded data removed]",
      "text/plain": [
       "<Figure size 720x360 with 4 Axes>"
      ]
     },
     "metadata": {
      "needs_background": "light"
     },
     "output_type": "display_data"
    }
   ],
   "source": [
    "fig, ((ax1,ax2), (ax3,ax4)) = plt.subplots(nrows = 2,\n",
    "                                          ncols = 2,\n",
    "                                          figsize = (10,5))\n",
    "\n",
    "ax1.hist(df.bed, range=[0,40])\n",
    "ax1.set_title('Zmienna bed przed imputacją')\n",
    "ax2.hist(df2.bed, range = [0,60])\n",
    "ax2.set_title('Zmienna bed po imputacji')\n",
    "      \n",
    "ax3.hist(df.bath, range=[0,40])\n",
    "ax3.set_title('Zmienna bath przed imputacją')\n",
    "ax4.hist(df2.bath, range = [0,60])\n",
    "ax4.set_title('Zmienna bath po imputacji')\n",
    "\n",
    "\n",
    "fig.tight_layout()\n",
    "plt.subplots_adjust(left=0.1,\n",
    "                    bottom=0.1, \n",
    "                    right=0.9, \n",
    "                    top=1.3, \n",
    "                    wspace=0.4, \n",
    "                    hspace=0.4)\n",
    "plt.show()"
   ]
  },
  {
   "cell_type": "markdown",
   "metadata": {},
   "source": [
    "Wykresy rozkładu zmiennej w formie histogramu, wskazują powyżej, że zarówno dla zmiennej bed oraz bath doszło do zwiększenia lewostronności poprzez skumulowanie wartości średnich o niskich wynikach."
   ]
  },
  {
   "cell_type": "code",
   "execution_count": 42,
   "metadata": {},
   "outputs": [
    {
     "data": {
      "image/png": "[encoded data removed]",
      "text/plain": [
       "<Figure size 720x360 with 4 Axes>"
      ]
     },
     "metadata": {
      "needs_background": "light"
     },
     "output_type": "display_data"
    }
   ],
   "source": [
    "fig, ((ax1,ax2), (ax3,ax4)) = plt.subplots(nrows = 2,\n",
    "                                          ncols = 2,\n",
    "                                          figsize = (10,5))\n",
    "\n",
    "ax1.hist(df.price, range=[0,40])\n",
    "ax1.set_title('Zmienna price przed imputacją')\n",
    "ax2.hist(df2.price, range = [0,60])\n",
    "ax2.set_title('Zmienna price po imputacji')\n",
    "      \n",
    "ax3.hist(df.acre_lot, range=[0,40])\n",
    "ax3.set_title('Zmienna acre_lot przed imputacją')\n",
    "ax4.hist(df2.acre_lot, range = [0,60])\n",
    "ax4.set_title('Zmienna acre_lot po imputacji')\n",
    "\n",
    "\n",
    "fig.tight_layout()\n",
    "plt.subplots_adjust(left=0.1,\n",
    "                    bottom=0.1, \n",
    "                    right=0.9, \n",
    "                    top=1.3, \n",
    "                    wspace=0.4, \n",
    "                    hspace=0.4)\n",
    "plt.show()"
   ]
  },
  {
   "cell_type": "markdown",
   "metadata": {},
   "source": [
    "Dla zmiennych price oraz acre_lot nie doszło do znaczących zmian pod względem rozkładu."
   ]
  },
  {
   "cell_type": "code",
   "execution_count": 43,
   "metadata": {},
   "outputs": [
    {
     "data": {
      "image/png": "[encoded data removed]",
      "text/plain": [
       "<Figure size 720x360 with 2 Axes>"
      ]
     },
     "metadata": {
      "needs_background": "light"
     },
     "output_type": "display_data"
    }
   ],
   "source": [
    "fig, ((ax1,ax2)) = plt.subplots(nrows = 2,\n",
    "                                          ncols = 1,\n",
    "                                          figsize = (10,5))\n",
    "\n",
    "ax1.hist(df.house_size, range=[0,25000])\n",
    "ax1.set_title('Zmienna house_size przed imputacją')\n",
    "ax2.hist(df2.house_size, range = [0,25000])\n",
    "ax2.set_title('Zmienna house_size po imputacji')\n",
    "\n",
    "\n",
    "fig.tight_layout()\n",
    "plt.subplots_adjust(left=0.1,\n",
    "                    bottom=0.1, \n",
    "                    right=0.9, \n",
    "                    top=1.3, \n",
    "                    wspace=0.4, \n",
    "                    hspace=0.4)\n",
    "plt.show()"
   ]
  },
  {
   "cell_type": "markdown",
   "metadata": {},
   "source": [
    "Zmienna house_size po imputacji również nie wskazała na znaczące zmiany w wynikach po imputacji wartością średnią dla rozkładu wartości"
   ]
  },
  {
   "cell_type": "markdown",
   "metadata": {},
   "source": [
    "**Imputacja medianą**"
   ]
  },
  {
   "cell_type": "markdown",
   "metadata": {},
   "source": [
    "Kolejną bardzo prostą metodą jest imputacja wartości brakujących wynikiem mediany. Mediana jest to wartość środkowa w szeregu uporządkowanym. Metoda ta podobnie jak imputacja średnią jako wartość dodaną może przyjmować swoją prostotę, niestety nie jest zbyt precyzyjna i może dostarczać kłopotów statystyczych w dalszych etapach analizy."
   ]
  },
  {
   "cell_type": "code",
   "execution_count": 44,
   "metadata": {},
   "outputs": [],
   "source": [
    "#Proces imutacji wartości mediany\n",
    "\n",
    "df3 = df2.apply(lambda x: x.fillna(x.median()),axis=0)"
   ]
  },
  {
   "cell_type": "code",
   "execution_count": 45,
   "metadata": {
    "scrolled": false
   },
   "outputs": [
    {
     "data": {
      "text/html": [
       "<div>\n",
       "<style scoped>\n",
       "    .dataframe tbody tr th:only-of-type {\n",
       "        vertical-align: middle;\n",
       "    }\n",
       "\n",
       "    .dataframe tbody tr th {\n",
       "        vertical-align: top;\n",
       "    }\n",
       "\n",
       "    .dataframe thead th {\n",
       "        text-align: right;\n",
       "    }\n",
       "</style>\n",
       "<table border=\"1\" class=\"dataframe\">\n",
       "  <thead>\n",
       "    <tr style=\"text-align: right;\">\n",
       "      <th></th>\n",
       "      <th>price</th>\n",
       "      <th>bed</th>\n",
       "      <th>bath</th>\n",
       "      <th>acre_lot</th>\n",
       "      <th>house_size</th>\n",
       "    </tr>\n",
       "  </thead>\n",
       "  <tbody>\n",
       "    <tr>\n",
       "      <th>count</th>\n",
       "      <td>2.029890e+05</td>\n",
       "      <td>171888.000000</td>\n",
       "      <td>172760.000000</td>\n",
       "      <td>150951.000000</td>\n",
       "      <td>1.733790e+05</td>\n",
       "    </tr>\n",
       "    <tr>\n",
       "      <th>mean</th>\n",
       "      <td>8.685731e+05</td>\n",
       "      <td>3.534406</td>\n",
       "      <td>2.619935</td>\n",
       "      <td>8.727829</td>\n",
       "      <td>2.234515e+03</td>\n",
       "    </tr>\n",
       "    <tr>\n",
       "      <th>std</th>\n",
       "      <td>1.434062e+06</td>\n",
       "      <td>2.697086</td>\n",
       "      <td>2.939548</td>\n",
       "      <td>634.875814</td>\n",
       "      <td>4.222224e+03</td>\n",
       "    </tr>\n",
       "    <tr>\n",
       "      <th>min</th>\n",
       "      <td>1.000000e+00</td>\n",
       "      <td>1.000000</td>\n",
       "      <td>1.000000</td>\n",
       "      <td>0.000000</td>\n",
       "      <td>1.000000e+02</td>\n",
       "    </tr>\n",
       "    <tr>\n",
       "      <th>25%</th>\n",
       "      <td>2.499000e+05</td>\n",
       "      <td>2.000000</td>\n",
       "      <td>2.000000</td>\n",
       "      <td>0.130000</td>\n",
       "      <td>1.152000e+03</td>\n",
       "    </tr>\n",
       "    <tr>\n",
       "      <th>50%</th>\n",
       "      <td>5.199000e+05</td>\n",
       "      <td>3.000000</td>\n",
       "      <td>2.000000</td>\n",
       "      <td>0.330000</td>\n",
       "      <td>1.727000e+03</td>\n",
       "    </tr>\n",
       "    <tr>\n",
       "      <th>75%</th>\n",
       "      <td>8.899000e+05</td>\n",
       "      <td>4.000000</td>\n",
       "      <td>3.000000</td>\n",
       "      <td>1.140000</td>\n",
       "      <td>2.634000e+03</td>\n",
       "    </tr>\n",
       "    <tr>\n",
       "      <th>max</th>\n",
       "      <td>6.000000e+07</td>\n",
       "      <td>99.000000</td>\n",
       "      <td>198.000000</td>\n",
       "      <td>100000.000000</td>\n",
       "      <td>1.450112e+06</td>\n",
       "    </tr>\n",
       "  </tbody>\n",
       "</table>\n",
       "</div>"
      ],
      "text/plain": [
       "              price            bed           bath       acre_lot    house_size\n",
       "count  2.029890e+05  171888.000000  172760.000000  150951.000000  1.733790e+05\n",
       "mean   8.685731e+05       3.534406       2.619935       8.727829  2.234515e+03\n",
       "std    1.434062e+06       2.697086       2.939548     634.875814  4.222224e+03\n",
       "min    1.000000e+00       1.000000       1.000000       0.000000  1.000000e+02\n",
       "25%    2.499000e+05       2.000000       2.000000       0.130000  1.152000e+03\n",
       "50%    5.199000e+05       3.000000       2.000000       0.330000  1.727000e+03\n",
       "75%    8.899000e+05       4.000000       3.000000       1.140000  2.634000e+03\n",
       "max    6.000000e+07      99.000000     198.000000  100000.000000  1.450112e+06"
      ]
     },
     "metadata": {},
     "output_type": "display_data"
    },
    {
     "data": {
      "text/html": [
       "<div>\n",
       "<style scoped>\n",
       "    .dataframe tbody tr th:only-of-type {\n",
       "        vertical-align: middle;\n",
       "    }\n",
       "\n",
       "    .dataframe tbody tr th {\n",
       "        vertical-align: top;\n",
       "    }\n",
       "\n",
       "    .dataframe thead th {\n",
       "        text-align: right;\n",
       "    }\n",
       "</style>\n",
       "<table border=\"1\" class=\"dataframe\">\n",
       "  <thead>\n",
       "    <tr style=\"text-align: right;\">\n",
       "      <th></th>\n",
       "      <th>price</th>\n",
       "      <th>bed</th>\n",
       "      <th>bath</th>\n",
       "      <th>acre_lot</th>\n",
       "      <th>house_size</th>\n",
       "    </tr>\n",
       "  </thead>\n",
       "  <tbody>\n",
       "    <tr>\n",
       "      <th>count</th>\n",
       "      <td>2.029890e+05</td>\n",
       "      <td>171888.000000</td>\n",
       "      <td>172760.000000</td>\n",
       "      <td>150951.000000</td>\n",
       "      <td>1.733790e+05</td>\n",
       "    </tr>\n",
       "    <tr>\n",
       "      <th>mean</th>\n",
       "      <td>8.685731e+05</td>\n",
       "      <td>3.534406</td>\n",
       "      <td>2.619935</td>\n",
       "      <td>8.727829</td>\n",
       "      <td>2.234515e+03</td>\n",
       "    </tr>\n",
       "    <tr>\n",
       "      <th>std</th>\n",
       "      <td>1.434062e+06</td>\n",
       "      <td>2.697086</td>\n",
       "      <td>2.939548</td>\n",
       "      <td>634.875814</td>\n",
       "      <td>4.222224e+03</td>\n",
       "    </tr>\n",
       "    <tr>\n",
       "      <th>min</th>\n",
       "      <td>1.000000e+00</td>\n",
       "      <td>1.000000</td>\n",
       "      <td>1.000000</td>\n",
       "      <td>0.000000</td>\n",
       "      <td>1.000000e+02</td>\n",
       "    </tr>\n",
       "    <tr>\n",
       "      <th>25%</th>\n",
       "      <td>2.499000e+05</td>\n",
       "      <td>2.000000</td>\n",
       "      <td>2.000000</td>\n",
       "      <td>0.130000</td>\n",
       "      <td>1.152000e+03</td>\n",
       "    </tr>\n",
       "    <tr>\n",
       "      <th>50%</th>\n",
       "      <td>5.199000e+05</td>\n",
       "      <td>3.000000</td>\n",
       "      <td>2.000000</td>\n",
       "      <td>0.330000</td>\n",
       "      <td>1.727000e+03</td>\n",
       "    </tr>\n",
       "    <tr>\n",
       "      <th>75%</th>\n",
       "      <td>8.899000e+05</td>\n",
       "      <td>4.000000</td>\n",
       "      <td>3.000000</td>\n",
       "      <td>1.140000</td>\n",
       "      <td>2.634000e+03</td>\n",
       "    </tr>\n",
       "    <tr>\n",
       "      <th>max</th>\n",
       "      <td>6.000000e+07</td>\n",
       "      <td>99.000000</td>\n",
       "      <td>198.000000</td>\n",
       "      <td>100000.000000</td>\n",
       "      <td>1.450112e+06</td>\n",
       "    </tr>\n",
       "  </tbody>\n",
       "</table>\n",
       "</div>"
      ],
      "text/plain": [
       "              price            bed           bath       acre_lot    house_size\n",
       "count  2.029890e+05  171888.000000  172760.000000  150951.000000  1.733790e+05\n",
       "mean   8.685731e+05       3.534406       2.619935       8.727829  2.234515e+03\n",
       "std    1.434062e+06       2.697086       2.939548     634.875814  4.222224e+03\n",
       "min    1.000000e+00       1.000000       1.000000       0.000000  1.000000e+02\n",
       "25%    2.499000e+05       2.000000       2.000000       0.130000  1.152000e+03\n",
       "50%    5.199000e+05       3.000000       2.000000       0.330000  1.727000e+03\n",
       "75%    8.899000e+05       4.000000       3.000000       1.140000  2.634000e+03\n",
       "max    6.000000e+07      99.000000     198.000000  100000.000000  1.450112e+06"
      ]
     },
     "metadata": {},
     "output_type": "display_data"
    },
    {
     "data": {
      "text/html": [
       "<div>\n",
       "<style scoped>\n",
       "    .dataframe tbody tr th:only-of-type {\n",
       "        vertical-align: middle;\n",
       "    }\n",
       "\n",
       "    .dataframe tbody tr th {\n",
       "        vertical-align: top;\n",
       "    }\n",
       "\n",
       "    .dataframe thead th {\n",
       "        text-align: right;\n",
       "    }\n",
       "</style>\n",
       "<table border=\"1\" class=\"dataframe\">\n",
       "  <thead>\n",
       "    <tr style=\"text-align: right;\">\n",
       "      <th></th>\n",
       "      <th>price</th>\n",
       "      <th>bed</th>\n",
       "      <th>bath</th>\n",
       "      <th>acre_lot</th>\n",
       "      <th>house_size</th>\n",
       "    </tr>\n",
       "  </thead>\n",
       "  <tbody>\n",
       "    <tr>\n",
       "      <th>count</th>\n",
       "      <td>2.029890e+05</td>\n",
       "      <td>202989.000000</td>\n",
       "      <td>202989.000000</td>\n",
       "      <td>202989.000000</td>\n",
       "      <td>2.029890e+05</td>\n",
       "    </tr>\n",
       "    <tr>\n",
       "      <th>mean</th>\n",
       "      <td>8.685731e+05</td>\n",
       "      <td>3.452527</td>\n",
       "      <td>2.527615</td>\n",
       "      <td>6.574972</td>\n",
       "      <td>2.160484e+03</td>\n",
       "    </tr>\n",
       "    <tr>\n",
       "      <th>std</th>\n",
       "      <td>1.434062e+06</td>\n",
       "      <td>2.489335</td>\n",
       "      <td>2.720817</td>\n",
       "      <td>547.494674</td>\n",
       "      <td>3.906252e+03</td>\n",
       "    </tr>\n",
       "    <tr>\n",
       "      <th>min</th>\n",
       "      <td>1.000000e+00</td>\n",
       "      <td>1.000000</td>\n",
       "      <td>1.000000</td>\n",
       "      <td>0.000000</td>\n",
       "      <td>1.000000e+02</td>\n",
       "    </tr>\n",
       "    <tr>\n",
       "      <th>25%</th>\n",
       "      <td>2.499000e+05</td>\n",
       "      <td>2.000000</td>\n",
       "      <td>2.000000</td>\n",
       "      <td>0.190000</td>\n",
       "      <td>1.232000e+03</td>\n",
       "    </tr>\n",
       "    <tr>\n",
       "      <th>50%</th>\n",
       "      <td>5.199000e+05</td>\n",
       "      <td>3.000000</td>\n",
       "      <td>2.000000</td>\n",
       "      <td>0.330000</td>\n",
       "      <td>1.727000e+03</td>\n",
       "    </tr>\n",
       "    <tr>\n",
       "      <th>75%</th>\n",
       "      <td>8.899000e+05</td>\n",
       "      <td>4.000000</td>\n",
       "      <td>3.000000</td>\n",
       "      <td>0.730000</td>\n",
       "      <td>2.443000e+03</td>\n",
       "    </tr>\n",
       "    <tr>\n",
       "      <th>max</th>\n",
       "      <td>6.000000e+07</td>\n",
       "      <td>99.000000</td>\n",
       "      <td>198.000000</td>\n",
       "      <td>100000.000000</td>\n",
       "      <td>1.450112e+06</td>\n",
       "    </tr>\n",
       "  </tbody>\n",
       "</table>\n",
       "</div>"
      ],
      "text/plain": [
       "              price            bed           bath       acre_lot    house_size\n",
       "count  2.029890e+05  202989.000000  202989.000000  202989.000000  2.029890e+05\n",
       "mean   8.685731e+05       3.452527       2.527615       6.574972  2.160484e+03\n",
       "std    1.434062e+06       2.489335       2.720817     547.494674  3.906252e+03\n",
       "min    1.000000e+00       1.000000       1.000000       0.000000  1.000000e+02\n",
       "25%    2.499000e+05       2.000000       2.000000       0.190000  1.232000e+03\n",
       "50%    5.199000e+05       3.000000       2.000000       0.330000  1.727000e+03\n",
       "75%    8.899000e+05       4.000000       3.000000       0.730000  2.443000e+03\n",
       "max    6.000000e+07      99.000000     198.000000  100000.000000  1.450112e+06"
      ]
     },
     "metadata": {},
     "output_type": "display_data"
    }
   ],
   "source": [
    "display(df.describe(), df2.describe(), df3.describe())"
   ]
  },
  {
   "cell_type": "markdown",
   "metadata": {},
   "source": [
    "Powyżej przedstawione zostały wyniki wartości statystyk podstawowych dla zbioru danych składającego się z brakujących danych (pierwsza tabela), dla zbioru po imputacji metodą średnich wartości (druga tabela) oraz na koniec jest tabela po imputacji wartościami mediany.\n",
    "Jak możemy zauważyć po uzupełnieniu braków wartościami mediany doszło do znaczącego spadku wartości średniej w kolumnach. Dodatkowo znaczącej zmianie uległa wartość 75% percentyli, która spadła dla zmiennej acre_lot, podobnie dla zmiennej house_size."
   ]
  },
  {
   "cell_type": "code",
   "execution_count": 46,
   "metadata": {
    "scrolled": false
   },
   "outputs": [
    {
     "data": {
      "image/png": "[encoded data removed]",
      "text/plain": [
       "<Figure size 720x360 with 4 Axes>"
      ]
     },
     "metadata": {
      "needs_background": "light"
     },
     "output_type": "display_data"
    },
    {
     "data": {
      "image/png": "[encoded data removed]",
      "text/plain": [
       "<Figure size 720x360 with 4 Axes>"
      ]
     },
     "metadata": {
      "needs_background": "light"
     },
     "output_type": "display_data"
    }
   ],
   "source": [
    "fig, ((ax1,ax2), (ax3,ax4)) = plt.subplots(nrows = 2,\n",
    "                                          ncols = 2,\n",
    "                                          figsize = (10,5))\n",
    "\n",
    "ax1.hist(df.bed, range=[0,40])\n",
    "ax1.set_title('Zmienna bed przed imputacją')\n",
    "ax2.hist(df3.bed, range = [0,60])\n",
    "ax2.set_title('Zmienna bed po imputacji')\n",
    "      \n",
    "ax3.hist(df.bath, range=[0,40])\n",
    "ax3.set_title('Zmienna bath przed imputacją')\n",
    "ax4.hist(df3.bath, range = [0,60])\n",
    "ax4.set_title('Zmienna bath po imputacji')\n",
    "\n",
    "\n",
    "fig.tight_layout()\n",
    "plt.subplots_adjust(left=0.1,\n",
    "                    bottom=0.1, \n",
    "                    right=0.9, \n",
    "                    top=1.3, \n",
    "                    wspace=0.4, \n",
    "                    hspace=0.4)\n",
    "plt.show()\n",
    "\n",
    "fig, ((ax1,ax2), (ax3,ax4)) = plt.subplots(nrows = 2,\n",
    "                                          ncols = 2,\n",
    "                                          figsize = (10,5))\n",
    "\n",
    "ax1.hist(df.price, range=[0,40])\n",
    "ax1.set_title('Zmienna price przed imputacją')\n",
    "ax2.hist(df3.price, range = [0,60])\n",
    "ax2.set_title('Zmienna price po imputacji')\n",
    "      \n",
    "ax3.hist(df.acre_lot, range=[0,40])\n",
    "ax3.set_title('Zmienna acre_lot przed imputacją')\n",
    "ax4.hist(df3.acre_lot, range = [0,60])\n",
    "ax4.set_title('Zmienna acre_lot po imputacji')\n",
    "\n",
    "\n",
    "fig.tight_layout()\n",
    "plt.subplots_adjust(left=0.1,\n",
    "                    bottom=0.1, \n",
    "                    right=0.9, \n",
    "                    top=1.3, \n",
    "                    wspace=0.4, \n",
    "                    hspace=0.4)\n",
    "plt.show()"
   ]
  },
  {
   "cell_type": "markdown",
   "metadata": {},
   "source": [
    "Powyżej przedstawione zostały wykresy rozkładu wartości dla zmiennych przed oraz po imputacji wartością mediany. Zauważalne jest doprowadzenie do mocnej lewostronności rozkładu oraz zmniejszenia się wartości dla zmiennych."
   ]
  },
  {
   "cell_type": "code",
   "execution_count": 47,
   "metadata": {
    "scrolled": false
   },
   "outputs": [
    {
     "data": {
      "image/png": "[encoded data removed]",
      "text/plain": [
       "<Figure size 720x360 with 2 Axes>"
      ]
     },
     "metadata": {
      "needs_background": "light"
     },
     "output_type": "display_data"
    }
   ],
   "source": [
    "fig, ((ax1,ax2)) = plt.subplots(nrows = 2,\n",
    "                                          ncols = 1,\n",
    "                                          figsize = (10,5))\n",
    "\n",
    "ax1.hist(df.house_size, range=[0,25000])\n",
    "ax1.set_title('Zmienna house_size przed imputacją')\n",
    "ax2.hist(df3.house_size, range = [0,25000])\n",
    "ax2.set_title('Zmienna house_size po imputacji')\n",
    "\n",
    "\n",
    "fig.tight_layout()\n",
    "plt.subplots_adjust(left=0.1,\n",
    "                    bottom=0.1, \n",
    "                    right=0.9, \n",
    "                    top=1.3, \n",
    "                    wspace=0.4, \n",
    "                    hspace=0.4)\n",
    "plt.show()"
   ]
  },
  {
   "cell_type": "markdown",
   "metadata": {},
   "source": [
    "W przypadku zmiennej house_size po imputacji doszło do zmniejszenia kumulacji wartości w przedziale od 2500-5000."
   ]
  },
  {
   "cell_type": "markdown",
   "metadata": {},
   "source": [
    "**Imputacja regresją**"
   ]
  },
  {
   "cell_type": "markdown",
   "metadata": {},
   "source": [
    "Następna metoda jaka zostanie użyta w celu imputacji danych różni się od poprzednich swoją bardziej statystyczną oraz prognostyczną formą. Metoda regresji jest jedną z najpopularniejszych metod imputacji danych. Jest ona bardzo dobra w przypadku występowania zależności między zmiennymi, niemniej jednak cechuje się problemami w postaci właśnie konieczności dobrze skorelowanych zmiennych, powoduje zwiększenie siły zależności między zmiennymi jak i też zmniejsza wariancję zmiennej objaśnianej."
   ]
  },
  {
   "cell_type": "code",
   "execution_count": 48,
   "metadata": {
    "scrolled": false
   },
   "outputs": [
    {
     "data": {
      "text/html": [
       "<div>\n",
       "<style scoped>\n",
       "    .dataframe tbody tr th:only-of-type {\n",
       "        vertical-align: middle;\n",
       "    }\n",
       "\n",
       "    .dataframe tbody tr th {\n",
       "        vertical-align: top;\n",
       "    }\n",
       "\n",
       "    .dataframe thead th {\n",
       "        text-align: right;\n",
       "    }\n",
       "</style>\n",
       "<table border=\"1\" class=\"dataframe\">\n",
       "  <thead>\n",
       "    <tr style=\"text-align: right;\">\n",
       "      <th></th>\n",
       "      <th>price</th>\n",
       "      <th>bed</th>\n",
       "      <th>bath</th>\n",
       "      <th>acre_lot</th>\n",
       "      <th>house_size</th>\n",
       "    </tr>\n",
       "  </thead>\n",
       "  <tbody>\n",
       "    <tr>\n",
       "      <th>price</th>\n",
       "      <td>1.000000</td>\n",
       "      <td>0.277267</td>\n",
       "      <td>0.368687</td>\n",
       "      <td>0.008734</td>\n",
       "      <td>0.279257</td>\n",
       "    </tr>\n",
       "    <tr>\n",
       "      <th>bed</th>\n",
       "      <td>0.277267</td>\n",
       "      <td>1.000000</td>\n",
       "      <td>0.755947</td>\n",
       "      <td>-0.000678</td>\n",
       "      <td>0.300828</td>\n",
       "    </tr>\n",
       "    <tr>\n",
       "      <th>bath</th>\n",
       "      <td>0.368687</td>\n",
       "      <td>0.755947</td>\n",
       "      <td>1.000000</td>\n",
       "      <td>0.001918</td>\n",
       "      <td>0.268170</td>\n",
       "    </tr>\n",
       "    <tr>\n",
       "      <th>acre_lot</th>\n",
       "      <td>0.008734</td>\n",
       "      <td>-0.000678</td>\n",
       "      <td>0.001918</td>\n",
       "      <td>1.000000</td>\n",
       "      <td>0.041545</td>\n",
       "    </tr>\n",
       "    <tr>\n",
       "      <th>house_size</th>\n",
       "      <td>0.279257</td>\n",
       "      <td>0.300828</td>\n",
       "      <td>0.268170</td>\n",
       "      <td>0.041545</td>\n",
       "      <td>1.000000</td>\n",
       "    </tr>\n",
       "  </tbody>\n",
       "</table>\n",
       "</div>"
      ],
      "text/plain": [
       "               price       bed      bath  acre_lot  house_size\n",
       "price       1.000000  0.277267  0.368687  0.008734    0.279257\n",
       "bed         0.277267  1.000000  0.755947 -0.000678    0.300828\n",
       "bath        0.368687  0.755947  1.000000  0.001918    0.268170\n",
       "acre_lot    0.008734 -0.000678  0.001918  1.000000    0.041545\n",
       "house_size  0.279257  0.300828  0.268170  0.041545    1.000000"
      ]
     },
     "metadata": {},
     "output_type": "display_data"
    },
    {
     "data": {
      "text/plain": [
       "<AxesSubplot:>"
      ]
     },
     "metadata": {},
     "output_type": "display_data"
    },
    {
     "data": {
      "image/png": "[encoded data removed]",
      "text/plain": [
       "<Figure size 432x288 with 2 Axes>"
      ]
     },
     "metadata": {
      "needs_background": "light"
     },
     "output_type": "display_data"
    }
   ],
   "source": [
    "a = sns.heatmap(df2.corr())\n",
    "display(df2.corr(),a )"
   ]
  },
  {
   "cell_type": "markdown",
   "metadata": {},
   "source": [
    "Powyżej przedstawiona została w formie tabelarycznej oraz graficznej macierz korelacji. Jak możemy zauważyć jedyna istotna zależność występuje pomiędzy zmienną bed oraz bath, aż 0,76. Wskazuje nam to na to, że imputację przeprowadzić możemy jedynie na tych zmiennych, gdyż reszta nie ma żadnej relacji i predykcje byłyby na bardzo niskim poziomie."
   ]
  },
  {
   "cell_type": "code",
   "execution_count": 49,
   "metadata": {},
   "outputs": [],
   "source": [
    "#Część testowa\n",
    "test_data = df2[df2['bed'].isnull()]"
   ]
  },
  {
   "cell_type": "code",
   "execution_count": 50,
   "metadata": {
    "scrolled": true
   },
   "outputs": [
    {
     "data": {
      "text/html": [
       "<div>\n",
       "<style scoped>\n",
       "    .dataframe tbody tr th:only-of-type {\n",
       "        vertical-align: middle;\n",
       "    }\n",
       "\n",
       "    .dataframe tbody tr th {\n",
       "        vertical-align: top;\n",
       "    }\n",
       "\n",
       "    .dataframe thead th {\n",
       "        text-align: right;\n",
       "    }\n",
       "</style>\n",
       "<table border=\"1\" class=\"dataframe\">\n",
       "  <thead>\n",
       "    <tr style=\"text-align: right;\">\n",
       "      <th></th>\n",
       "      <th>price</th>\n",
       "      <th>bed</th>\n",
       "      <th>bath</th>\n",
       "      <th>acre_lot</th>\n",
       "      <th>house_size</th>\n",
       "    </tr>\n",
       "  </thead>\n",
       "  <tbody>\n",
       "    <tr>\n",
       "      <th>42</th>\n",
       "      <td>400000</td>\n",
       "      <td>NaN</td>\n",
       "      <td>NaN</td>\n",
       "      <td>0.99</td>\n",
       "      <td>43082.0</td>\n",
       "    </tr>\n",
       "    <tr>\n",
       "      <th>43</th>\n",
       "      <td>380000</td>\n",
       "      <td>NaN</td>\n",
       "      <td>NaN</td>\n",
       "      <td>18.45</td>\n",
       "      <td>NaN</td>\n",
       "    </tr>\n",
       "    <tr>\n",
       "      <th>59</th>\n",
       "      <td>35000</td>\n",
       "      <td>NaN</td>\n",
       "      <td>NaN</td>\n",
       "      <td>0.88</td>\n",
       "      <td>NaN</td>\n",
       "    </tr>\n",
       "    <tr>\n",
       "      <th>60</th>\n",
       "      <td>58000</td>\n",
       "      <td>NaN</td>\n",
       "      <td>NaN</td>\n",
       "      <td>0.21</td>\n",
       "      <td>NaN</td>\n",
       "    </tr>\n",
       "    <tr>\n",
       "      <th>61</th>\n",
       "      <td>85000</td>\n",
       "      <td>NaN</td>\n",
       "      <td>NaN</td>\n",
       "      <td>21.08</td>\n",
       "      <td>NaN</td>\n",
       "    </tr>\n",
       "    <tr>\n",
       "      <th>...</th>\n",
       "      <td>...</td>\n",
       "      <td>...</td>\n",
       "      <td>...</td>\n",
       "      <td>...</td>\n",
       "      <td>...</td>\n",
       "    </tr>\n",
       "    <tr>\n",
       "      <th>202950</th>\n",
       "      <td>189000</td>\n",
       "      <td>NaN</td>\n",
       "      <td>NaN</td>\n",
       "      <td>1.03</td>\n",
       "      <td>NaN</td>\n",
       "    </tr>\n",
       "    <tr>\n",
       "      <th>202956</th>\n",
       "      <td>899000</td>\n",
       "      <td>NaN</td>\n",
       "      <td>NaN</td>\n",
       "      <td>0.35</td>\n",
       "      <td>NaN</td>\n",
       "    </tr>\n",
       "    <tr>\n",
       "      <th>202957</th>\n",
       "      <td>185000</td>\n",
       "      <td>NaN</td>\n",
       "      <td>NaN</td>\n",
       "      <td>1.19</td>\n",
       "      <td>NaN</td>\n",
       "    </tr>\n",
       "    <tr>\n",
       "      <th>202959</th>\n",
       "      <td>995000</td>\n",
       "      <td>NaN</td>\n",
       "      <td>NaN</td>\n",
       "      <td>0.23</td>\n",
       "      <td>NaN</td>\n",
       "    </tr>\n",
       "    <tr>\n",
       "      <th>202986</th>\n",
       "      <td>2400000</td>\n",
       "      <td>NaN</td>\n",
       "      <td>1.0</td>\n",
       "      <td>0.08</td>\n",
       "      <td>2328.0</td>\n",
       "    </tr>\n",
       "  </tbody>\n",
       "</table>\n",
       "<p>31101 rows × 5 columns</p>\n",
       "</div>"
      ],
      "text/plain": [
       "          price  bed  bath  acre_lot  house_size\n",
       "42       400000  NaN   NaN      0.99     43082.0\n",
       "43       380000  NaN   NaN     18.45         NaN\n",
       "59        35000  NaN   NaN      0.88         NaN\n",
       "60        58000  NaN   NaN      0.21         NaN\n",
       "61        85000  NaN   NaN     21.08         NaN\n",
       "...         ...  ...   ...       ...         ...\n",
       "202950   189000  NaN   NaN      1.03         NaN\n",
       "202956   899000  NaN   NaN      0.35         NaN\n",
       "202957   185000  NaN   NaN      1.19         NaN\n",
       "202959   995000  NaN   NaN      0.23         NaN\n",
       "202986  2400000  NaN   1.0      0.08      2328.0\n",
       "\n",
       "[31101 rows x 5 columns]"
      ]
     },
     "execution_count": 50,
     "metadata": {},
     "output_type": "execute_result"
    }
   ],
   "source": [
    "test_data"
   ]
  },
  {
   "cell_type": "code",
   "execution_count": 51,
   "metadata": {},
   "outputs": [],
   "source": [
    "test_data = test_data[test_data['bath'].notna()]\n",
    "test_data = test_data[test_data['price'].notna()]\n",
    "test_data = test_data[test_data['house_size'].notna()]\n",
    "test_data = test_data[test_data['acre_lot'].notna()]"
   ]
  },
  {
   "cell_type": "code",
   "execution_count": 52,
   "metadata": {},
   "outputs": [
    {
     "name": "stderr",
     "output_type": "stream",
     "text": [
      "<ipython-input-52-ebe03e7ca968>:1: SettingWithCopyWarning: \n",
      "A value is trying to be set on a copy of a slice from a DataFrame\n",
      "\n",
      "See the caveats in the documentation: https://pandas.pydata.org/pandas-docs/stable/user_guide/indexing.html#returning-a-view-versus-a-copy\n",
      "  df2.dropna(inplace=True)\n"
     ]
    },
    {
     "data": {
      "text/plain": [
       "price         0\n",
       "bed           0\n",
       "bath          0\n",
       "acre_lot      0\n",
       "house_size    0\n",
       "dtype: int64"
      ]
     },
     "execution_count": 52,
     "metadata": {},
     "output_type": "execute_result"
    }
   ],
   "source": [
    "df2.dropna(inplace=True)\n",
    "df2.isna().sum()"
   ]
  },
  {
   "cell_type": "code",
   "execution_count": 53,
   "metadata": {
    "scrolled": true
   },
   "outputs": [
    {
     "data": {
      "text/plain": [
       "price           0\n",
       "bed           745\n",
       "bath            0\n",
       "acre_lot        0\n",
       "house_size      0\n",
       "dtype: int64"
      ]
     },
     "execution_count": 53,
     "metadata": {},
     "output_type": "execute_result"
    }
   ],
   "source": [
    "#Usunięcie wartości pustych ze zbioru danych\n",
    "test_data.isna().sum()\n"
   ]
  },
  {
   "cell_type": "code",
   "execution_count": 54,
   "metadata": {},
   "outputs": [],
   "source": [
    "df4 = df2[df2['bath'].notna()]\n",
    "df4 = df2[df2['price'].notna()]\n",
    "df4 = df2[df2['house_size'].notna()]\n",
    "df4 = df2[df2['acre_lot'].notna()]"
   ]
  },
  {
   "cell_type": "code",
   "execution_count": 55,
   "metadata": {},
   "outputs": [],
   "source": [
    "y_train = df3['bed']"
   ]
  },
  {
   "cell_type": "code",
   "execution_count": 56,
   "metadata": {},
   "outputs": [],
   "source": [
    "X_train = df3.drop('bed', axis = 1)"
   ]
  },
  {
   "cell_type": "code",
   "execution_count": 57,
   "metadata": {},
   "outputs": [],
   "source": [
    "#Tworzenie modelu\n",
    "from sklearn.linear_model import LinearRegression\n",
    "lr = LinearRegression()"
   ]
  },
  {
   "cell_type": "code",
   "execution_count": 59,
   "metadata": {},
   "outputs": [
    {
     "data": {
      "text/plain": [
       "LinearRegression()"
      ]
     },
     "execution_count": 59,
     "metadata": {},
     "output_type": "execute_result"
    }
   ],
   "source": [
    "lr.fit(X_train, y_train)"
   ]
  },
  {
   "cell_type": "code",
   "execution_count": 60,
   "metadata": {},
   "outputs": [],
   "source": [
    "#Cześć ucząca\n",
    "X_test = test_data.drop('bed', axis = 1)"
   ]
  },
  {
   "cell_type": "code",
   "execution_count": 61,
   "metadata": {},
   "outputs": [
    {
     "data": {
      "text/html": [
       "<div>\n",
       "<style scoped>\n",
       "    .dataframe tbody tr th:only-of-type {\n",
       "        vertical-align: middle;\n",
       "    }\n",
       "\n",
       "    .dataframe tbody tr th {\n",
       "        vertical-align: top;\n",
       "    }\n",
       "\n",
       "    .dataframe thead th {\n",
       "        text-align: right;\n",
       "    }\n",
       "</style>\n",
       "<table border=\"1\" class=\"dataframe\">\n",
       "  <thead>\n",
       "    <tr style=\"text-align: right;\">\n",
       "      <th></th>\n",
       "      <th>price</th>\n",
       "      <th>bath</th>\n",
       "      <th>acre_lot</th>\n",
       "      <th>house_size</th>\n",
       "    </tr>\n",
       "  </thead>\n",
       "  <tbody>\n",
       "    <tr>\n",
       "      <th>285</th>\n",
       "      <td>3000000</td>\n",
       "      <td>6.0</td>\n",
       "      <td>1.38</td>\n",
       "      <td>3000.0</td>\n",
       "    </tr>\n",
       "    <tr>\n",
       "      <th>527</th>\n",
       "      <td>3000000</td>\n",
       "      <td>6.0</td>\n",
       "      <td>1.38</td>\n",
       "      <td>3000.0</td>\n",
       "    </tr>\n",
       "    <tr>\n",
       "      <th>2607</th>\n",
       "      <td>3000000</td>\n",
       "      <td>6.0</td>\n",
       "      <td>1.38</td>\n",
       "      <td>3000.0</td>\n",
       "    </tr>\n",
       "    <tr>\n",
       "      <th>2991</th>\n",
       "      <td>3000000</td>\n",
       "      <td>6.0</td>\n",
       "      <td>1.38</td>\n",
       "      <td>3000.0</td>\n",
       "    </tr>\n",
       "    <tr>\n",
       "      <th>4317</th>\n",
       "      <td>3000000</td>\n",
       "      <td>6.0</td>\n",
       "      <td>1.38</td>\n",
       "      <td>3000.0</td>\n",
       "    </tr>\n",
       "    <tr>\n",
       "      <th>...</th>\n",
       "      <td>...</td>\n",
       "      <td>...</td>\n",
       "      <td>...</td>\n",
       "      <td>...</td>\n",
       "    </tr>\n",
       "    <tr>\n",
       "      <th>201573</th>\n",
       "      <td>10000</td>\n",
       "      <td>2.0</td>\n",
       "      <td>1.92</td>\n",
       "      <td>2716.0</td>\n",
       "    </tr>\n",
       "    <tr>\n",
       "      <th>202560</th>\n",
       "      <td>10000</td>\n",
       "      <td>2.0</td>\n",
       "      <td>1.92</td>\n",
       "      <td>2716.0</td>\n",
       "    </tr>\n",
       "    <tr>\n",
       "      <th>202781</th>\n",
       "      <td>2400000</td>\n",
       "      <td>1.0</td>\n",
       "      <td>0.08</td>\n",
       "      <td>2328.0</td>\n",
       "    </tr>\n",
       "    <tr>\n",
       "      <th>202830</th>\n",
       "      <td>180000</td>\n",
       "      <td>1.0</td>\n",
       "      <td>1.00</td>\n",
       "      <td>251.0</td>\n",
       "    </tr>\n",
       "    <tr>\n",
       "      <th>202986</th>\n",
       "      <td>2400000</td>\n",
       "      <td>1.0</td>\n",
       "      <td>0.08</td>\n",
       "      <td>2328.0</td>\n",
       "    </tr>\n",
       "  </tbody>\n",
       "</table>\n",
       "<p>745 rows × 4 columns</p>\n",
       "</div>"
      ],
      "text/plain": [
       "          price  bath  acre_lot  house_size\n",
       "285     3000000   6.0      1.38      3000.0\n",
       "527     3000000   6.0      1.38      3000.0\n",
       "2607    3000000   6.0      1.38      3000.0\n",
       "2991    3000000   6.0      1.38      3000.0\n",
       "4317    3000000   6.0      1.38      3000.0\n",
       "...         ...   ...       ...         ...\n",
       "201573    10000   2.0      1.92      2716.0\n",
       "202560    10000   2.0      1.92      2716.0\n",
       "202781  2400000   1.0      0.08      2328.0\n",
       "202830   180000   1.0      1.00       251.0\n",
       "202986  2400000   1.0      0.08      2328.0\n",
       "\n",
       "[745 rows x 4 columns]"
      ]
     },
     "execution_count": 61,
     "metadata": {},
     "output_type": "execute_result"
    }
   ],
   "source": [
    "X_test"
   ]
  },
  {
   "cell_type": "code",
   "execution_count": 62,
   "metadata": {},
   "outputs": [],
   "source": [
    "y_pred = lr.predict(X_test)"
   ]
  },
  {
   "cell_type": "code",
   "execution_count": 63,
   "metadata": {},
   "outputs": [],
   "source": [
    "test_data.loc[test_data.bed.isnull(),'bed'] = y_pred"
   ]
  },
  {
   "cell_type": "code",
   "execution_count": 64,
   "metadata": {
    "scrolled": true
   },
   "outputs": [
    {
     "data": {
      "text/html": [
       "<div>\n",
       "<style scoped>\n",
       "    .dataframe tbody tr th:only-of-type {\n",
       "        vertical-align: middle;\n",
       "    }\n",
       "\n",
       "    .dataframe tbody tr th {\n",
       "        vertical-align: top;\n",
       "    }\n",
       "\n",
       "    .dataframe thead th {\n",
       "        text-align: right;\n",
       "    }\n",
       "</style>\n",
       "<table border=\"1\" class=\"dataframe\">\n",
       "  <thead>\n",
       "    <tr style=\"text-align: right;\">\n",
       "      <th></th>\n",
       "      <th>price</th>\n",
       "      <th>bed</th>\n",
       "      <th>bath</th>\n",
       "      <th>acre_lot</th>\n",
       "      <th>house_size</th>\n",
       "    </tr>\n",
       "  </thead>\n",
       "  <tbody>\n",
       "    <tr>\n",
       "      <th>285</th>\n",
       "      <td>3000000</td>\n",
       "      <td>5.773544</td>\n",
       "      <td>6.0</td>\n",
       "      <td>1.38</td>\n",
       "      <td>3000.0</td>\n",
       "    </tr>\n",
       "    <tr>\n",
       "      <th>527</th>\n",
       "      <td>3000000</td>\n",
       "      <td>5.773544</td>\n",
       "      <td>6.0</td>\n",
       "      <td>1.38</td>\n",
       "      <td>3000.0</td>\n",
       "    </tr>\n",
       "    <tr>\n",
       "      <th>2607</th>\n",
       "      <td>3000000</td>\n",
       "      <td>5.773544</td>\n",
       "      <td>6.0</td>\n",
       "      <td>1.38</td>\n",
       "      <td>3000.0</td>\n",
       "    </tr>\n",
       "    <tr>\n",
       "      <th>2991</th>\n",
       "      <td>3000000</td>\n",
       "      <td>5.773544</td>\n",
       "      <td>6.0</td>\n",
       "      <td>1.38</td>\n",
       "      <td>3000.0</td>\n",
       "    </tr>\n",
       "    <tr>\n",
       "      <th>4317</th>\n",
       "      <td>3000000</td>\n",
       "      <td>5.773544</td>\n",
       "      <td>6.0</td>\n",
       "      <td>1.38</td>\n",
       "      <td>3000.0</td>\n",
       "    </tr>\n",
       "    <tr>\n",
       "      <th>...</th>\n",
       "      <td>...</td>\n",
       "      <td>...</td>\n",
       "      <td>...</td>\n",
       "      <td>...</td>\n",
       "      <td>...</td>\n",
       "    </tr>\n",
       "    <tr>\n",
       "      <th>201573</th>\n",
       "      <td>10000</td>\n",
       "      <td>3.164774</td>\n",
       "      <td>2.0</td>\n",
       "      <td>1.92</td>\n",
       "      <td>2716.0</td>\n",
       "    </tr>\n",
       "    <tr>\n",
       "      <th>202560</th>\n",
       "      <td>10000</td>\n",
       "      <td>3.164774</td>\n",
       "      <td>2.0</td>\n",
       "      <td>1.92</td>\n",
       "      <td>2716.0</td>\n",
       "    </tr>\n",
       "    <tr>\n",
       "      <th>202781</th>\n",
       "      <td>2400000</td>\n",
       "      <td>2.378764</td>\n",
       "      <td>1.0</td>\n",
       "      <td>0.08</td>\n",
       "      <td>2328.0</td>\n",
       "    </tr>\n",
       "    <tr>\n",
       "      <th>202830</th>\n",
       "      <td>180000</td>\n",
       "      <td>2.319669</td>\n",
       "      <td>1.0</td>\n",
       "      <td>1.00</td>\n",
       "      <td>251.0</td>\n",
       "    </tr>\n",
       "    <tr>\n",
       "      <th>202986</th>\n",
       "      <td>2400000</td>\n",
       "      <td>2.378764</td>\n",
       "      <td>1.0</td>\n",
       "      <td>0.08</td>\n",
       "      <td>2328.0</td>\n",
       "    </tr>\n",
       "  </tbody>\n",
       "</table>\n",
       "<p>745 rows × 5 columns</p>\n",
       "</div>"
      ],
      "text/plain": [
       "          price       bed  bath  acre_lot  house_size\n",
       "285     3000000  5.773544   6.0      1.38      3000.0\n",
       "527     3000000  5.773544   6.0      1.38      3000.0\n",
       "2607    3000000  5.773544   6.0      1.38      3000.0\n",
       "2991    3000000  5.773544   6.0      1.38      3000.0\n",
       "4317    3000000  5.773544   6.0      1.38      3000.0\n",
       "...         ...       ...   ...       ...         ...\n",
       "201573    10000  3.164774   2.0      1.92      2716.0\n",
       "202560    10000  3.164774   2.0      1.92      2716.0\n",
       "202781  2400000  2.378764   1.0      0.08      2328.0\n",
       "202830   180000  2.319669   1.0      1.00       251.0\n",
       "202986  2400000  2.378764   1.0      0.08      2328.0\n",
       "\n",
       "[745 rows x 5 columns]"
      ]
     },
     "execution_count": 64,
     "metadata": {},
     "output_type": "execute_result"
    }
   ],
   "source": [
    "test_data"
   ]
  },
  {
   "cell_type": "code",
   "execution_count": 65,
   "metadata": {
    "scrolled": true
   },
   "outputs": [],
   "source": [
    "test_data['bed'] = test_data['bed'].apply(np.ceil)"
   ]
  },
  {
   "cell_type": "code",
   "execution_count": 66,
   "metadata": {
    "scrolled": true
   },
   "outputs": [
    {
     "data": {
      "text/html": [
       "<div>\n",
       "<style scoped>\n",
       "    .dataframe tbody tr th:only-of-type {\n",
       "        vertical-align: middle;\n",
       "    }\n",
       "\n",
       "    .dataframe tbody tr th {\n",
       "        vertical-align: top;\n",
       "    }\n",
       "\n",
       "    .dataframe thead th {\n",
       "        text-align: right;\n",
       "    }\n",
       "</style>\n",
       "<table border=\"1\" class=\"dataframe\">\n",
       "  <thead>\n",
       "    <tr style=\"text-align: right;\">\n",
       "      <th></th>\n",
       "      <th>price</th>\n",
       "      <th>bed</th>\n",
       "      <th>bath</th>\n",
       "      <th>acre_lot</th>\n",
       "      <th>house_size</th>\n",
       "    </tr>\n",
       "  </thead>\n",
       "  <tbody>\n",
       "    <tr>\n",
       "      <th>285</th>\n",
       "      <td>3000000</td>\n",
       "      <td>6.0</td>\n",
       "      <td>6.0</td>\n",
       "      <td>1.38</td>\n",
       "      <td>3000.0</td>\n",
       "    </tr>\n",
       "    <tr>\n",
       "      <th>527</th>\n",
       "      <td>3000000</td>\n",
       "      <td>6.0</td>\n",
       "      <td>6.0</td>\n",
       "      <td>1.38</td>\n",
       "      <td>3000.0</td>\n",
       "    </tr>\n",
       "    <tr>\n",
       "      <th>2607</th>\n",
       "      <td>3000000</td>\n",
       "      <td>6.0</td>\n",
       "      <td>6.0</td>\n",
       "      <td>1.38</td>\n",
       "      <td>3000.0</td>\n",
       "    </tr>\n",
       "    <tr>\n",
       "      <th>2991</th>\n",
       "      <td>3000000</td>\n",
       "      <td>6.0</td>\n",
       "      <td>6.0</td>\n",
       "      <td>1.38</td>\n",
       "      <td>3000.0</td>\n",
       "    </tr>\n",
       "    <tr>\n",
       "      <th>4317</th>\n",
       "      <td>3000000</td>\n",
       "      <td>6.0</td>\n",
       "      <td>6.0</td>\n",
       "      <td>1.38</td>\n",
       "      <td>3000.0</td>\n",
       "    </tr>\n",
       "    <tr>\n",
       "      <th>...</th>\n",
       "      <td>...</td>\n",
       "      <td>...</td>\n",
       "      <td>...</td>\n",
       "      <td>...</td>\n",
       "      <td>...</td>\n",
       "    </tr>\n",
       "    <tr>\n",
       "      <th>201573</th>\n",
       "      <td>10000</td>\n",
       "      <td>4.0</td>\n",
       "      <td>2.0</td>\n",
       "      <td>1.92</td>\n",
       "      <td>2716.0</td>\n",
       "    </tr>\n",
       "    <tr>\n",
       "      <th>202560</th>\n",
       "      <td>10000</td>\n",
       "      <td>4.0</td>\n",
       "      <td>2.0</td>\n",
       "      <td>1.92</td>\n",
       "      <td>2716.0</td>\n",
       "    </tr>\n",
       "    <tr>\n",
       "      <th>202781</th>\n",
       "      <td>2400000</td>\n",
       "      <td>3.0</td>\n",
       "      <td>1.0</td>\n",
       "      <td>0.08</td>\n",
       "      <td>2328.0</td>\n",
       "    </tr>\n",
       "    <tr>\n",
       "      <th>202830</th>\n",
       "      <td>180000</td>\n",
       "      <td>3.0</td>\n",
       "      <td>1.0</td>\n",
       "      <td>1.00</td>\n",
       "      <td>251.0</td>\n",
       "    </tr>\n",
       "    <tr>\n",
       "      <th>202986</th>\n",
       "      <td>2400000</td>\n",
       "      <td>3.0</td>\n",
       "      <td>1.0</td>\n",
       "      <td>0.08</td>\n",
       "      <td>2328.0</td>\n",
       "    </tr>\n",
       "  </tbody>\n",
       "</table>\n",
       "<p>745 rows × 5 columns</p>\n",
       "</div>"
      ],
      "text/plain": [
       "          price  bed  bath  acre_lot  house_size\n",
       "285     3000000  6.0   6.0      1.38      3000.0\n",
       "527     3000000  6.0   6.0      1.38      3000.0\n",
       "2607    3000000  6.0   6.0      1.38      3000.0\n",
       "2991    3000000  6.0   6.0      1.38      3000.0\n",
       "4317    3000000  6.0   6.0      1.38      3000.0\n",
       "...         ...  ...   ...       ...         ...\n",
       "201573    10000  4.0   2.0      1.92      2716.0\n",
       "202560    10000  4.0   2.0      1.92      2716.0\n",
       "202781  2400000  3.0   1.0      0.08      2328.0\n",
       "202830   180000  3.0   1.0      1.00       251.0\n",
       "202986  2400000  3.0   1.0      0.08      2328.0\n",
       "\n",
       "[745 rows x 5 columns]"
      ]
     },
     "execution_count": 66,
     "metadata": {},
     "output_type": "execute_result"
    }
   ],
   "source": [
    "test_data"
   ]
  },
  {
   "cell_type": "markdown",
   "metadata": {},
   "source": [
    "Jak widać nasze wartości zostały uzupełnione. Bardzo dużym problemem regresji jest uzupełnianie wartości brakującej na podstawie innych zmiennych zależnych, dlatego było to dość problematyczne w naszym przypadku. Zmienna najsilniej skorelowana ze zmienną bed posiadała prawie taką samą liczbę braków, dlatego finalnie uzupełnione metodą regresji mogły zostać tylko 745 wierszy. Wskazuje to na duże probelmy uzupełniania metodą regresji."
   ]
  },
  {
   "cell_type": "markdown",
   "metadata": {},
   "source": [
    "**Imputacja KNN**"
   ]
  },
  {
   "cell_type": "markdown",
   "metadata": {},
   "source": [
    "Ostatnią metodą imputacji danych jest K-najbliższych sąsiadów. W największym uproszczeniu jest to metoda, która polega na zaklasyfikowaniu nowej wartości (w naszym przypadku wartości brakującej) pośród pewnej liczby znanych obiektów. W niniejszej pracy będziemy opierać się na liczbie 3 sąsiadujących wartości. "
   ]
  },
  {
   "cell_type": "code",
   "execution_count": 67,
   "metadata": {},
   "outputs": [],
   "source": [
    "df = df[['price', 'bed', 'bath', 'acre_lot' ,'house_size']]"
   ]
  },
  {
   "cell_type": "code",
   "execution_count": 68,
   "metadata": {
    "scrolled": true
   },
   "outputs": [],
   "source": [
    "df_cut = df[:50000]\n",
    "df_cut2 = df[50000:100000]\n",
    "df_cut3 = df[100000:150000]\n",
    "df_cut4 = df[150000:200000]\n",
    "df_cut5 = df[200000:]"
   ]
  },
  {
   "cell_type": "code",
   "execution_count": 69,
   "metadata": {},
   "outputs": [],
   "source": [
    "from sklearn.impute import KNNImputer"
   ]
  },
  {
   "cell_type": "code",
   "execution_count": 70,
   "metadata": {
    "scrolled": true
   },
   "outputs": [
    {
     "data": {
      "text/plain": [
       "array([[1.050e+05, 3.000e+00, 2.000e+00, 1.200e-01, 9.200e+02],\n",
       "       [8.000e+04, 4.000e+00, 2.000e+00, 8.000e-02, 1.527e+03],\n",
       "       [6.700e+04, 2.000e+00, 1.000e+00, 1.500e-01, 7.480e+02],\n",
       "       ...,\n",
       "       [2.799e+05, 3.000e+00, 2.000e+00, 4.000e-01, 1.322e+03],\n",
       "       [4.899e+05, 3.000e+00, 3.000e+00, 2.580e+00, 1.760e+03],\n",
       "       [4.749e+05, 3.000e+00, 2.000e+00, 1.920e+00, 1.643e+03]])"
      ]
     },
     "execution_count": 70,
     "metadata": {},
     "output_type": "execute_result"
    }
   ],
   "source": [
    "impute_knn = KNNImputer(n_neighbors=3, weights = 'distance')\n",
    "x= impute_knn.fit_transform(df_cut)\n",
    "x"
   ]
  },
  {
   "cell_type": "code",
   "execution_count": 71,
   "metadata": {},
   "outputs": [
    {
     "data": {
      "text/plain": [
       "array([[2.399e+05, 3.000e+00, 2.000e+00, 2.800e-01, 1.176e+03],\n",
       "       [2.990e+05, 3.000e+00, 1.000e+00, 6.500e-01, 1.424e+03],\n",
       "       [4.850e+05, 4.000e+00, 3.000e+00, 5.800e-01, 1.985e+03],\n",
       "       ...,\n",
       "       [5.400e+05, 2.000e+00, 2.000e+00, 1.080e+02, 1.525e+03],\n",
       "       [2.099e+05, 3.000e+00, 2.000e+00, 2.100e-01, 1.388e+03],\n",
       "       [2.749e+05, 2.000e+00, 2.000e+00, 2.355e+01, 1.278e+03]])"
      ]
     },
     "execution_count": 71,
     "metadata": {},
     "output_type": "execute_result"
    }
   ],
   "source": [
    "impute_knn = KNNImputer(n_neighbors=3, weights = 'distance')\n",
    "x1= impute_knn.fit_transform(df_cut2)\n",
    "x1"
   ]
  },
  {
   "cell_type": "code",
   "execution_count": 72,
   "metadata": {},
   "outputs": [
    {
     "data": {
      "text/plain": [
       "array([[1.149e+05, 2.000e+00, 1.000e+00, 8.100e-01, 6.720e+02],\n",
       "       [3.299e+05, 3.000e+00, 1.000e+00, 1.320e+00, 1.092e+03],\n",
       "       [3.750e+05, 2.000e+00, 2.000e+00, 4.800e-01, 1.180e+03],\n",
       "       ...,\n",
       "       [9.490e+05, 3.000e+00, 2.000e+00, 1.740e+00, 1.912e+03],\n",
       "       [1.095e+06, 4.000e+00, 2.000e+00, 1.000e-01, 2.357e+03],\n",
       "       [1.645e+06, 4.000e+00, 4.000e+00, 9.200e-01, 3.410e+03]])"
      ]
     },
     "execution_count": 72,
     "metadata": {},
     "output_type": "execute_result"
    }
   ],
   "source": [
    "impute_knn = KNNImputer(n_neighbors=3, weights = 'distance')\n",
    "x2= impute_knn.fit_transform(df_cut3)\n",
    "x2"
   ]
  },
  {
   "cell_type": "code",
   "execution_count": 73,
   "metadata": {},
   "outputs": [
    {
     "data": {
      "text/plain": [
       "array([[4.75000000e+06, 4.00000000e+00, 4.00000000e+00, 3.00000000e-02,\n",
       "        4.40000000e+03],\n",
       "       [7.99000000e+05, 1.00000000e+00, 1.00000000e+00, 3.69400000e+01,\n",
       "        7.02000000e+02],\n",
       "       [5.00000000e+05, 4.66666369e+00, 2.66667262e+00, 8.00000000e-02,\n",
       "        1.72800263e+03],\n",
       "       ...,\n",
       "       [7.09500000e+05, 3.00000000e+00, 3.00000000e+00, 2.10000000e-01,\n",
       "        1.87600000e+03],\n",
       "       [7.08400000e+05, 3.00000000e+00, 2.00000000e+00, 1.80000000e-01,\n",
       "        1.63200000e+03],\n",
       "       [3.19900000e+05, 3.00000000e+00, 3.00000000e+00, 7.50000000e-01,\n",
       "        1.86800000e+03]])"
      ]
     },
     "execution_count": 73,
     "metadata": {},
     "output_type": "execute_result"
    }
   ],
   "source": [
    "impute_knn = KNNImputer(n_neighbors=3, weights = 'distance')\n",
    "x3= impute_knn.fit_transform(df_cut4)\n",
    "x3"
   ]
  },
  {
   "cell_type": "code",
   "execution_count": 74,
   "metadata": {},
   "outputs": [],
   "source": [
    "impute_knn = KNNImputer(n_neighbors=3, weights = 'distance')\n",
    "x4= impute_knn.fit_transform(df_cut5)"
   ]
  },
  {
   "cell_type": "code",
   "execution_count": 75,
   "metadata": {},
   "outputs": [],
   "source": [
    "df_1 = pd.DataFrame(x, columns=['price', \n",
    "                      'bed','bath','acre_lot',\n",
    "                       'house_size'])\n",
    "df_2 = pd.DataFrame(x1, columns=['price', \n",
    "                      'bed','bath','acre_lot',\n",
    "                       'house_size'])\n",
    "df_3 = pd.DataFrame(x2, columns=['price', \n",
    "                      'bed','bath','acre_lot',\n",
    "                       'house_size'])\n",
    "df_4 = pd.DataFrame(x3, columns=['price', \n",
    "                      'bed','bath','acre_lot',\n",
    "                       'house_size'])\n",
    "df_5 = pd.DataFrame(x4, columns=['price', \n",
    "                      'bed','bath','acre_lot',\n",
    "                       'house_size'])"
   ]
  },
  {
   "cell_type": "code",
   "execution_count": 76,
   "metadata": {
    "scrolled": true
   },
   "outputs": [
    {
     "data": {
      "text/html": [
       "<div>\n",
       "<style scoped>\n",
       "    .dataframe tbody tr th:only-of-type {\n",
       "        vertical-align: middle;\n",
       "    }\n",
       "\n",
       "    .dataframe tbody tr th {\n",
       "        vertical-align: top;\n",
       "    }\n",
       "\n",
       "    .dataframe thead th {\n",
       "        text-align: right;\n",
       "    }\n",
       "</style>\n",
       "<table border=\"1\" class=\"dataframe\">\n",
       "  <thead>\n",
       "    <tr style=\"text-align: right;\">\n",
       "      <th></th>\n",
       "      <th>price</th>\n",
       "      <th>bed</th>\n",
       "      <th>bath</th>\n",
       "      <th>acre_lot</th>\n",
       "      <th>house_size</th>\n",
       "    </tr>\n",
       "  </thead>\n",
       "  <tbody>\n",
       "    <tr>\n",
       "      <th>0</th>\n",
       "      <td>105000.0</td>\n",
       "      <td>3.0</td>\n",
       "      <td>2.0</td>\n",
       "      <td>0.12</td>\n",
       "      <td>920.0</td>\n",
       "    </tr>\n",
       "    <tr>\n",
       "      <th>1</th>\n",
       "      <td>80000.0</td>\n",
       "      <td>4.0</td>\n",
       "      <td>2.0</td>\n",
       "      <td>0.08</td>\n",
       "      <td>1527.0</td>\n",
       "    </tr>\n",
       "    <tr>\n",
       "      <th>2</th>\n",
       "      <td>67000.0</td>\n",
       "      <td>2.0</td>\n",
       "      <td>1.0</td>\n",
       "      <td>0.15</td>\n",
       "      <td>748.0</td>\n",
       "    </tr>\n",
       "    <tr>\n",
       "      <th>3</th>\n",
       "      <td>145000.0</td>\n",
       "      <td>4.0</td>\n",
       "      <td>2.0</td>\n",
       "      <td>0.10</td>\n",
       "      <td>1800.0</td>\n",
       "    </tr>\n",
       "    <tr>\n",
       "      <th>4</th>\n",
       "      <td>65000.0</td>\n",
       "      <td>6.0</td>\n",
       "      <td>2.0</td>\n",
       "      <td>0.05</td>\n",
       "      <td>2600.0</td>\n",
       "    </tr>\n",
       "    <tr>\n",
       "      <th>...</th>\n",
       "      <td>...</td>\n",
       "      <td>...</td>\n",
       "      <td>...</td>\n",
       "      <td>...</td>\n",
       "      <td>...</td>\n",
       "    </tr>\n",
       "    <tr>\n",
       "      <th>49995</th>\n",
       "      <td>499000.0</td>\n",
       "      <td>4.0</td>\n",
       "      <td>4.0</td>\n",
       "      <td>2.00</td>\n",
       "      <td>2532.0</td>\n",
       "    </tr>\n",
       "    <tr>\n",
       "      <th>49996</th>\n",
       "      <td>299999.0</td>\n",
       "      <td>3.0</td>\n",
       "      <td>2.0</td>\n",
       "      <td>0.33</td>\n",
       "      <td>1650.0</td>\n",
       "    </tr>\n",
       "    <tr>\n",
       "      <th>49997</th>\n",
       "      <td>279900.0</td>\n",
       "      <td>3.0</td>\n",
       "      <td>2.0</td>\n",
       "      <td>0.40</td>\n",
       "      <td>1322.0</td>\n",
       "    </tr>\n",
       "    <tr>\n",
       "      <th>49998</th>\n",
       "      <td>489900.0</td>\n",
       "      <td>3.0</td>\n",
       "      <td>3.0</td>\n",
       "      <td>2.58</td>\n",
       "      <td>1760.0</td>\n",
       "    </tr>\n",
       "    <tr>\n",
       "      <th>49999</th>\n",
       "      <td>474900.0</td>\n",
       "      <td>3.0</td>\n",
       "      <td>2.0</td>\n",
       "      <td>1.92</td>\n",
       "      <td>1643.0</td>\n",
       "    </tr>\n",
       "  </tbody>\n",
       "</table>\n",
       "<p>50000 rows × 5 columns</p>\n",
       "</div>"
      ],
      "text/plain": [
       "          price  bed  bath  acre_lot  house_size\n",
       "0      105000.0  3.0   2.0      0.12       920.0\n",
       "1       80000.0  4.0   2.0      0.08      1527.0\n",
       "2       67000.0  2.0   1.0      0.15       748.0\n",
       "3      145000.0  4.0   2.0      0.10      1800.0\n",
       "4       65000.0  6.0   2.0      0.05      2600.0\n",
       "...         ...  ...   ...       ...         ...\n",
       "49995  499000.0  4.0   4.0      2.00      2532.0\n",
       "49996  299999.0  3.0   2.0      0.33      1650.0\n",
       "49997  279900.0  3.0   2.0      0.40      1322.0\n",
       "49998  489900.0  3.0   3.0      2.58      1760.0\n",
       "49999  474900.0  3.0   2.0      1.92      1643.0\n",
       "\n",
       "[50000 rows x 5 columns]"
      ]
     },
     "metadata": {},
     "output_type": "display_data"
    },
    {
     "data": {
      "text/html": [
       "<div>\n",
       "<style scoped>\n",
       "    .dataframe tbody tr th:only-of-type {\n",
       "        vertical-align: middle;\n",
       "    }\n",
       "\n",
       "    .dataframe tbody tr th {\n",
       "        vertical-align: top;\n",
       "    }\n",
       "\n",
       "    .dataframe thead th {\n",
       "        text-align: right;\n",
       "    }\n",
       "</style>\n",
       "<table border=\"1\" class=\"dataframe\">\n",
       "  <thead>\n",
       "    <tr style=\"text-align: right;\">\n",
       "      <th></th>\n",
       "      <th>price</th>\n",
       "      <th>bed</th>\n",
       "      <th>bath</th>\n",
       "      <th>acre_lot</th>\n",
       "      <th>house_size</th>\n",
       "    </tr>\n",
       "  </thead>\n",
       "  <tbody>\n",
       "    <tr>\n",
       "      <th>0</th>\n",
       "      <td>239900.0</td>\n",
       "      <td>3.0</td>\n",
       "      <td>2.0</td>\n",
       "      <td>0.28</td>\n",
       "      <td>1176.0</td>\n",
       "    </tr>\n",
       "    <tr>\n",
       "      <th>1</th>\n",
       "      <td>299000.0</td>\n",
       "      <td>3.0</td>\n",
       "      <td>1.0</td>\n",
       "      <td>0.65</td>\n",
       "      <td>1424.0</td>\n",
       "    </tr>\n",
       "    <tr>\n",
       "      <th>2</th>\n",
       "      <td>485000.0</td>\n",
       "      <td>4.0</td>\n",
       "      <td>3.0</td>\n",
       "      <td>0.58</td>\n",
       "      <td>1985.0</td>\n",
       "    </tr>\n",
       "    <tr>\n",
       "      <th>3</th>\n",
       "      <td>139000.0</td>\n",
       "      <td>3.0</td>\n",
       "      <td>1.0</td>\n",
       "      <td>0.10</td>\n",
       "      <td>1428.0</td>\n",
       "    </tr>\n",
       "    <tr>\n",
       "      <th>4</th>\n",
       "      <td>239900.0</td>\n",
       "      <td>4.0</td>\n",
       "      <td>1.0</td>\n",
       "      <td>0.28</td>\n",
       "      <td>1200.0</td>\n",
       "    </tr>\n",
       "    <tr>\n",
       "      <th>...</th>\n",
       "      <td>...</td>\n",
       "      <td>...</td>\n",
       "      <td>...</td>\n",
       "      <td>...</td>\n",
       "      <td>...</td>\n",
       "    </tr>\n",
       "    <tr>\n",
       "      <th>49995</th>\n",
       "      <td>685000.0</td>\n",
       "      <td>3.0</td>\n",
       "      <td>3.0</td>\n",
       "      <td>9.38</td>\n",
       "      <td>1846.0</td>\n",
       "    </tr>\n",
       "    <tr>\n",
       "      <th>49996</th>\n",
       "      <td>739000.0</td>\n",
       "      <td>3.0</td>\n",
       "      <td>3.0</td>\n",
       "      <td>3.57</td>\n",
       "      <td>2700.0</td>\n",
       "    </tr>\n",
       "    <tr>\n",
       "      <th>49997</th>\n",
       "      <td>540000.0</td>\n",
       "      <td>2.0</td>\n",
       "      <td>2.0</td>\n",
       "      <td>108.00</td>\n",
       "      <td>1525.0</td>\n",
       "    </tr>\n",
       "    <tr>\n",
       "      <th>49998</th>\n",
       "      <td>209900.0</td>\n",
       "      <td>3.0</td>\n",
       "      <td>2.0</td>\n",
       "      <td>0.21</td>\n",
       "      <td>1388.0</td>\n",
       "    </tr>\n",
       "    <tr>\n",
       "      <th>49999</th>\n",
       "      <td>274900.0</td>\n",
       "      <td>2.0</td>\n",
       "      <td>2.0</td>\n",
       "      <td>23.55</td>\n",
       "      <td>1278.0</td>\n",
       "    </tr>\n",
       "  </tbody>\n",
       "</table>\n",
       "<p>50000 rows × 5 columns</p>\n",
       "</div>"
      ],
      "text/plain": [
       "          price  bed  bath  acre_lot  house_size\n",
       "0      239900.0  3.0   2.0      0.28      1176.0\n",
       "1      299000.0  3.0   1.0      0.65      1424.0\n",
       "2      485000.0  4.0   3.0      0.58      1985.0\n",
       "3      139000.0  3.0   1.0      0.10      1428.0\n",
       "4      239900.0  4.0   1.0      0.28      1200.0\n",
       "...         ...  ...   ...       ...         ...\n",
       "49995  685000.0  3.0   3.0      9.38      1846.0\n",
       "49996  739000.0  3.0   3.0      3.57      2700.0\n",
       "49997  540000.0  2.0   2.0    108.00      1525.0\n",
       "49998  209900.0  3.0   2.0      0.21      1388.0\n",
       "49999  274900.0  2.0   2.0     23.55      1278.0\n",
       "\n",
       "[50000 rows x 5 columns]"
      ]
     },
     "metadata": {},
     "output_type": "display_data"
    },
    {
     "data": {
      "text/html": [
       "<div>\n",
       "<style scoped>\n",
       "    .dataframe tbody tr th:only-of-type {\n",
       "        vertical-align: middle;\n",
       "    }\n",
       "\n",
       "    .dataframe tbody tr th {\n",
       "        vertical-align: top;\n",
       "    }\n",
       "\n",
       "    .dataframe thead th {\n",
       "        text-align: right;\n",
       "    }\n",
       "</style>\n",
       "<table border=\"1\" class=\"dataframe\">\n",
       "  <thead>\n",
       "    <tr style=\"text-align: right;\">\n",
       "      <th></th>\n",
       "      <th>price</th>\n",
       "      <th>bed</th>\n",
       "      <th>bath</th>\n",
       "      <th>acre_lot</th>\n",
       "      <th>house_size</th>\n",
       "    </tr>\n",
       "  </thead>\n",
       "  <tbody>\n",
       "    <tr>\n",
       "      <th>0</th>\n",
       "      <td>114900.0</td>\n",
       "      <td>2.0</td>\n",
       "      <td>1.0</td>\n",
       "      <td>0.81</td>\n",
       "      <td>672.0</td>\n",
       "    </tr>\n",
       "    <tr>\n",
       "      <th>1</th>\n",
       "      <td>329900.0</td>\n",
       "      <td>3.0</td>\n",
       "      <td>1.0</td>\n",
       "      <td>1.32</td>\n",
       "      <td>1092.0</td>\n",
       "    </tr>\n",
       "    <tr>\n",
       "      <th>2</th>\n",
       "      <td>375000.0</td>\n",
       "      <td>2.0</td>\n",
       "      <td>2.0</td>\n",
       "      <td>0.48</td>\n",
       "      <td>1180.0</td>\n",
       "    </tr>\n",
       "    <tr>\n",
       "      <th>3</th>\n",
       "      <td>629900.0</td>\n",
       "      <td>5.0</td>\n",
       "      <td>4.0</td>\n",
       "      <td>0.44</td>\n",
       "      <td>4666.0</td>\n",
       "    </tr>\n",
       "    <tr>\n",
       "      <th>4</th>\n",
       "      <td>395000.0</td>\n",
       "      <td>3.0</td>\n",
       "      <td>2.0</td>\n",
       "      <td>1.50</td>\n",
       "      <td>1549.0</td>\n",
       "    </tr>\n",
       "    <tr>\n",
       "      <th>...</th>\n",
       "      <td>...</td>\n",
       "      <td>...</td>\n",
       "      <td>...</td>\n",
       "      <td>...</td>\n",
       "      <td>...</td>\n",
       "    </tr>\n",
       "    <tr>\n",
       "      <th>49995</th>\n",
       "      <td>799000.0</td>\n",
       "      <td>1.0</td>\n",
       "      <td>1.0</td>\n",
       "      <td>0.02</td>\n",
       "      <td>705.0</td>\n",
       "    </tr>\n",
       "    <tr>\n",
       "      <th>49996</th>\n",
       "      <td>535000.0</td>\n",
       "      <td>1.0</td>\n",
       "      <td>1.0</td>\n",
       "      <td>0.70</td>\n",
       "      <td>475.0</td>\n",
       "    </tr>\n",
       "    <tr>\n",
       "      <th>49997</th>\n",
       "      <td>949000.0</td>\n",
       "      <td>3.0</td>\n",
       "      <td>2.0</td>\n",
       "      <td>1.74</td>\n",
       "      <td>1912.0</td>\n",
       "    </tr>\n",
       "    <tr>\n",
       "      <th>49998</th>\n",
       "      <td>1095000.0</td>\n",
       "      <td>4.0</td>\n",
       "      <td>2.0</td>\n",
       "      <td>0.10</td>\n",
       "      <td>2357.0</td>\n",
       "    </tr>\n",
       "    <tr>\n",
       "      <th>49999</th>\n",
       "      <td>1645000.0</td>\n",
       "      <td>4.0</td>\n",
       "      <td>4.0</td>\n",
       "      <td>0.92</td>\n",
       "      <td>3410.0</td>\n",
       "    </tr>\n",
       "  </tbody>\n",
       "</table>\n",
       "<p>50000 rows × 5 columns</p>\n",
       "</div>"
      ],
      "text/plain": [
       "           price  bed  bath  acre_lot  house_size\n",
       "0       114900.0  2.0   1.0      0.81       672.0\n",
       "1       329900.0  3.0   1.0      1.32      1092.0\n",
       "2       375000.0  2.0   2.0      0.48      1180.0\n",
       "3       629900.0  5.0   4.0      0.44      4666.0\n",
       "4       395000.0  3.0   2.0      1.50      1549.0\n",
       "...          ...  ...   ...       ...         ...\n",
       "49995   799000.0  1.0   1.0      0.02       705.0\n",
       "49996   535000.0  1.0   1.0      0.70       475.0\n",
       "49997   949000.0  3.0   2.0      1.74      1912.0\n",
       "49998  1095000.0  4.0   2.0      0.10      2357.0\n",
       "49999  1645000.0  4.0   4.0      0.92      3410.0\n",
       "\n",
       "[50000 rows x 5 columns]"
      ]
     },
     "metadata": {},
     "output_type": "display_data"
    },
    {
     "data": {
      "text/html": [
       "<div>\n",
       "<style scoped>\n",
       "    .dataframe tbody tr th:only-of-type {\n",
       "        vertical-align: middle;\n",
       "    }\n",
       "\n",
       "    .dataframe tbody tr th {\n",
       "        vertical-align: top;\n",
       "    }\n",
       "\n",
       "    .dataframe thead th {\n",
       "        text-align: right;\n",
       "    }\n",
       "</style>\n",
       "<table border=\"1\" class=\"dataframe\">\n",
       "  <thead>\n",
       "    <tr style=\"text-align: right;\">\n",
       "      <th></th>\n",
       "      <th>price</th>\n",
       "      <th>bed</th>\n",
       "      <th>bath</th>\n",
       "      <th>acre_lot</th>\n",
       "      <th>house_size</th>\n",
       "    </tr>\n",
       "  </thead>\n",
       "  <tbody>\n",
       "    <tr>\n",
       "      <th>0</th>\n",
       "      <td>4750000.0</td>\n",
       "      <td>4.000000</td>\n",
       "      <td>4.000000</td>\n",
       "      <td>0.03</td>\n",
       "      <td>4400.000000</td>\n",
       "    </tr>\n",
       "    <tr>\n",
       "      <th>1</th>\n",
       "      <td>799000.0</td>\n",
       "      <td>1.000000</td>\n",
       "      <td>1.000000</td>\n",
       "      <td>36.94</td>\n",
       "      <td>702.000000</td>\n",
       "    </tr>\n",
       "    <tr>\n",
       "      <th>2</th>\n",
       "      <td>500000.0</td>\n",
       "      <td>4.666664</td>\n",
       "      <td>2.666673</td>\n",
       "      <td>0.08</td>\n",
       "      <td>1728.002625</td>\n",
       "    </tr>\n",
       "    <tr>\n",
       "      <th>3</th>\n",
       "      <td>679000.0</td>\n",
       "      <td>1.000000</td>\n",
       "      <td>2.000000</td>\n",
       "      <td>0.20</td>\n",
       "      <td>900.000000</td>\n",
       "    </tr>\n",
       "    <tr>\n",
       "      <th>4</th>\n",
       "      <td>849900.0</td>\n",
       "      <td>2.000000</td>\n",
       "      <td>2.000000</td>\n",
       "      <td>0.13</td>\n",
       "      <td>1106.000000</td>\n",
       "    </tr>\n",
       "    <tr>\n",
       "      <th>...</th>\n",
       "      <td>...</td>\n",
       "      <td>...</td>\n",
       "      <td>...</td>\n",
       "      <td>...</td>\n",
       "      <td>...</td>\n",
       "    </tr>\n",
       "    <tr>\n",
       "      <th>49995</th>\n",
       "      <td>1098957.0</td>\n",
       "      <td>3.000000</td>\n",
       "      <td>3.000000</td>\n",
       "      <td>0.10</td>\n",
       "      <td>1960.000000</td>\n",
       "    </tr>\n",
       "    <tr>\n",
       "      <th>49996</th>\n",
       "      <td>1150076.0</td>\n",
       "      <td>3.000000</td>\n",
       "      <td>3.000000</td>\n",
       "      <td>0.10</td>\n",
       "      <td>2129.000000</td>\n",
       "    </tr>\n",
       "    <tr>\n",
       "      <th>49997</th>\n",
       "      <td>709500.0</td>\n",
       "      <td>3.000000</td>\n",
       "      <td>3.000000</td>\n",
       "      <td>0.21</td>\n",
       "      <td>1876.000000</td>\n",
       "    </tr>\n",
       "    <tr>\n",
       "      <th>49998</th>\n",
       "      <td>708400.0</td>\n",
       "      <td>3.000000</td>\n",
       "      <td>2.000000</td>\n",
       "      <td>0.18</td>\n",
       "      <td>1632.000000</td>\n",
       "    </tr>\n",
       "    <tr>\n",
       "      <th>49999</th>\n",
       "      <td>319900.0</td>\n",
       "      <td>3.000000</td>\n",
       "      <td>3.000000</td>\n",
       "      <td>0.75</td>\n",
       "      <td>1868.000000</td>\n",
       "    </tr>\n",
       "  </tbody>\n",
       "</table>\n",
       "<p>50000 rows × 5 columns</p>\n",
       "</div>"
      ],
      "text/plain": [
       "           price       bed      bath  acre_lot   house_size\n",
       "0      4750000.0  4.000000  4.000000      0.03  4400.000000\n",
       "1       799000.0  1.000000  1.000000     36.94   702.000000\n",
       "2       500000.0  4.666664  2.666673      0.08  1728.002625\n",
       "3       679000.0  1.000000  2.000000      0.20   900.000000\n",
       "4       849900.0  2.000000  2.000000      0.13  1106.000000\n",
       "...          ...       ...       ...       ...          ...\n",
       "49995  1098957.0  3.000000  3.000000      0.10  1960.000000\n",
       "49996  1150076.0  3.000000  3.000000      0.10  2129.000000\n",
       "49997   709500.0  3.000000  3.000000      0.21  1876.000000\n",
       "49998   708400.0  3.000000  2.000000      0.18  1632.000000\n",
       "49999   319900.0  3.000000  3.000000      0.75  1868.000000\n",
       "\n",
       "[50000 rows x 5 columns]"
      ]
     },
     "metadata": {},
     "output_type": "display_data"
    },
    {
     "data": {
      "text/html": [
       "<div>\n",
       "<style scoped>\n",
       "    .dataframe tbody tr th:only-of-type {\n",
       "        vertical-align: middle;\n",
       "    }\n",
       "\n",
       "    .dataframe tbody tr th {\n",
       "        vertical-align: top;\n",
       "    }\n",
       "\n",
       "    .dataframe thead th {\n",
       "        text-align: right;\n",
       "    }\n",
       "</style>\n",
       "<table border=\"1\" class=\"dataframe\">\n",
       "  <thead>\n",
       "    <tr style=\"text-align: right;\">\n",
       "      <th></th>\n",
       "      <th>price</th>\n",
       "      <th>bed</th>\n",
       "      <th>bath</th>\n",
       "      <th>acre_lot</th>\n",
       "      <th>house_size</th>\n",
       "    </tr>\n",
       "  </thead>\n",
       "  <tbody>\n",
       "    <tr>\n",
       "      <th>0</th>\n",
       "      <td>478000.0</td>\n",
       "      <td>3.000000</td>\n",
       "      <td>2.0</td>\n",
       "      <td>0.64</td>\n",
       "      <td>2437.0</td>\n",
       "    </tr>\n",
       "    <tr>\n",
       "      <th>1</th>\n",
       "      <td>392500.0</td>\n",
       "      <td>6.000000</td>\n",
       "      <td>3.0</td>\n",
       "      <td>0.33</td>\n",
       "      <td>1980.0</td>\n",
       "    </tr>\n",
       "    <tr>\n",
       "      <th>2</th>\n",
       "      <td>799900.0</td>\n",
       "      <td>4.000000</td>\n",
       "      <td>4.0</td>\n",
       "      <td>1.15</td>\n",
       "      <td>3628.0</td>\n",
       "    </tr>\n",
       "    <tr>\n",
       "      <th>3</th>\n",
       "      <td>350000.0</td>\n",
       "      <td>3.000000</td>\n",
       "      <td>1.0</td>\n",
       "      <td>0.22</td>\n",
       "      <td>1004.0</td>\n",
       "    </tr>\n",
       "    <tr>\n",
       "      <th>4</th>\n",
       "      <td>339900.0</td>\n",
       "      <td>3.000000</td>\n",
       "      <td>1.0</td>\n",
       "      <td>0.11</td>\n",
       "      <td>799.0</td>\n",
       "    </tr>\n",
       "    <tr>\n",
       "      <th>...</th>\n",
       "      <td>...</td>\n",
       "      <td>...</td>\n",
       "      <td>...</td>\n",
       "      <td>...</td>\n",
       "      <td>...</td>\n",
       "    </tr>\n",
       "    <tr>\n",
       "      <th>2984</th>\n",
       "      <td>1995000.0</td>\n",
       "      <td>1.000000</td>\n",
       "      <td>1.0</td>\n",
       "      <td>0.05</td>\n",
       "      <td>700.0</td>\n",
       "    </tr>\n",
       "    <tr>\n",
       "      <th>2985</th>\n",
       "      <td>3495000.0</td>\n",
       "      <td>6.000000</td>\n",
       "      <td>5.0</td>\n",
       "      <td>1.22</td>\n",
       "      <td>5302.0</td>\n",
       "    </tr>\n",
       "    <tr>\n",
       "      <th>2986</th>\n",
       "      <td>2400000.0</td>\n",
       "      <td>3.260353</td>\n",
       "      <td>1.0</td>\n",
       "      <td>0.08</td>\n",
       "      <td>2328.0</td>\n",
       "    </tr>\n",
       "    <tr>\n",
       "      <th>2987</th>\n",
       "      <td>2999000.0</td>\n",
       "      <td>3.000000</td>\n",
       "      <td>4.0</td>\n",
       "      <td>0.36</td>\n",
       "      <td>2314.0</td>\n",
       "    </tr>\n",
       "    <tr>\n",
       "      <th>2988</th>\n",
       "      <td>7800000.0</td>\n",
       "      <td>4.000000</td>\n",
       "      <td>4.0</td>\n",
       "      <td>0.91</td>\n",
       "      <td>3563.0</td>\n",
       "    </tr>\n",
       "  </tbody>\n",
       "</table>\n",
       "<p>2989 rows × 5 columns</p>\n",
       "</div>"
      ],
      "text/plain": [
       "          price       bed  bath  acre_lot  house_size\n",
       "0      478000.0  3.000000   2.0      0.64      2437.0\n",
       "1      392500.0  6.000000   3.0      0.33      1980.0\n",
       "2      799900.0  4.000000   4.0      1.15      3628.0\n",
       "3      350000.0  3.000000   1.0      0.22      1004.0\n",
       "4      339900.0  3.000000   1.0      0.11       799.0\n",
       "...         ...       ...   ...       ...         ...\n",
       "2984  1995000.0  1.000000   1.0      0.05       700.0\n",
       "2985  3495000.0  6.000000   5.0      1.22      5302.0\n",
       "2986  2400000.0  3.260353   1.0      0.08      2328.0\n",
       "2987  2999000.0  3.000000   4.0      0.36      2314.0\n",
       "2988  7800000.0  4.000000   4.0      0.91      3563.0\n",
       "\n",
       "[2989 rows x 5 columns]"
      ]
     },
     "metadata": {},
     "output_type": "display_data"
    }
   ],
   "source": [
    "display(df_1,df_2,df_3,df_4,df_5)"
   ]
  },
  {
   "cell_type": "code",
   "execution_count": 77,
   "metadata": {},
   "outputs": [
    {
     "data": {
      "text/plain": [
       "price         0\n",
       "bed           0\n",
       "bath          0\n",
       "acre_lot      0\n",
       "house_size    0\n",
       "dtype: int64"
      ]
     },
     "execution_count": 77,
     "metadata": {},
     "output_type": "execute_result"
    }
   ],
   "source": [
    "df_5.isna().sum()"
   ]
  },
  {
   "cell_type": "code",
   "execution_count": 78,
   "metadata": {},
   "outputs": [],
   "source": [
    "frames = [df_1, df_2, df_3, df_4, df_5]\n",
    "\n",
    "result = pd.concat(frames)"
   ]
  },
  {
   "cell_type": "code",
   "execution_count": 79,
   "metadata": {},
   "outputs": [
    {
     "data": {
      "text/html": [
       "<div>\n",
       "<style scoped>\n",
       "    .dataframe tbody tr th:only-of-type {\n",
       "        vertical-align: middle;\n",
       "    }\n",
       "\n",
       "    .dataframe tbody tr th {\n",
       "        vertical-align: top;\n",
       "    }\n",
       "\n",
       "    .dataframe thead th {\n",
       "        text-align: right;\n",
       "    }\n",
       "</style>\n",
       "<table border=\"1\" class=\"dataframe\">\n",
       "  <thead>\n",
       "    <tr style=\"text-align: right;\">\n",
       "      <th></th>\n",
       "      <th>price</th>\n",
       "      <th>bed</th>\n",
       "      <th>bath</th>\n",
       "      <th>acre_lot</th>\n",
       "      <th>house_size</th>\n",
       "    </tr>\n",
       "  </thead>\n",
       "  <tbody>\n",
       "    <tr>\n",
       "      <th>0</th>\n",
       "      <td>105000.0</td>\n",
       "      <td>3.000000</td>\n",
       "      <td>2.0</td>\n",
       "      <td>0.12</td>\n",
       "      <td>920.0</td>\n",
       "    </tr>\n",
       "    <tr>\n",
       "      <th>1</th>\n",
       "      <td>80000.0</td>\n",
       "      <td>4.000000</td>\n",
       "      <td>2.0</td>\n",
       "      <td>0.08</td>\n",
       "      <td>1527.0</td>\n",
       "    </tr>\n",
       "    <tr>\n",
       "      <th>2</th>\n",
       "      <td>67000.0</td>\n",
       "      <td>2.000000</td>\n",
       "      <td>1.0</td>\n",
       "      <td>0.15</td>\n",
       "      <td>748.0</td>\n",
       "    </tr>\n",
       "    <tr>\n",
       "      <th>3</th>\n",
       "      <td>145000.0</td>\n",
       "      <td>4.000000</td>\n",
       "      <td>2.0</td>\n",
       "      <td>0.10</td>\n",
       "      <td>1800.0</td>\n",
       "    </tr>\n",
       "    <tr>\n",
       "      <th>4</th>\n",
       "      <td>65000.0</td>\n",
       "      <td>6.000000</td>\n",
       "      <td>2.0</td>\n",
       "      <td>0.05</td>\n",
       "      <td>2600.0</td>\n",
       "    </tr>\n",
       "    <tr>\n",
       "      <th>...</th>\n",
       "      <td>...</td>\n",
       "      <td>...</td>\n",
       "      <td>...</td>\n",
       "      <td>...</td>\n",
       "      <td>...</td>\n",
       "    </tr>\n",
       "    <tr>\n",
       "      <th>2984</th>\n",
       "      <td>1995000.0</td>\n",
       "      <td>1.000000</td>\n",
       "      <td>1.0</td>\n",
       "      <td>0.05</td>\n",
       "      <td>700.0</td>\n",
       "    </tr>\n",
       "    <tr>\n",
       "      <th>2985</th>\n",
       "      <td>3495000.0</td>\n",
       "      <td>6.000000</td>\n",
       "      <td>5.0</td>\n",
       "      <td>1.22</td>\n",
       "      <td>5302.0</td>\n",
       "    </tr>\n",
       "    <tr>\n",
       "      <th>2986</th>\n",
       "      <td>2400000.0</td>\n",
       "      <td>3.260353</td>\n",
       "      <td>1.0</td>\n",
       "      <td>0.08</td>\n",
       "      <td>2328.0</td>\n",
       "    </tr>\n",
       "    <tr>\n",
       "      <th>2987</th>\n",
       "      <td>2999000.0</td>\n",
       "      <td>3.000000</td>\n",
       "      <td>4.0</td>\n",
       "      <td>0.36</td>\n",
       "      <td>2314.0</td>\n",
       "    </tr>\n",
       "    <tr>\n",
       "      <th>2988</th>\n",
       "      <td>7800000.0</td>\n",
       "      <td>4.000000</td>\n",
       "      <td>4.0</td>\n",
       "      <td>0.91</td>\n",
       "      <td>3563.0</td>\n",
       "    </tr>\n",
       "  </tbody>\n",
       "</table>\n",
       "<p>202989 rows × 5 columns</p>\n",
       "</div>"
      ],
      "text/plain": [
       "          price       bed  bath  acre_lot  house_size\n",
       "0      105000.0  3.000000   2.0      0.12       920.0\n",
       "1       80000.0  4.000000   2.0      0.08      1527.0\n",
       "2       67000.0  2.000000   1.0      0.15       748.0\n",
       "3      145000.0  4.000000   2.0      0.10      1800.0\n",
       "4       65000.0  6.000000   2.0      0.05      2600.0\n",
       "...         ...       ...   ...       ...         ...\n",
       "2984  1995000.0  1.000000   1.0      0.05       700.0\n",
       "2985  3495000.0  6.000000   5.0      1.22      5302.0\n",
       "2986  2400000.0  3.260353   1.0      0.08      2328.0\n",
       "2987  2999000.0  3.000000   4.0      0.36      2314.0\n",
       "2988  7800000.0  4.000000   4.0      0.91      3563.0\n",
       "\n",
       "[202989 rows x 5 columns]"
      ]
     },
     "execution_count": 79,
     "metadata": {},
     "output_type": "execute_result"
    }
   ],
   "source": [
    "result"
   ]
  },
  {
   "cell_type": "code",
   "execution_count": 80,
   "metadata": {},
   "outputs": [
    {
     "data": {
      "text/plain": [
       "price         0\n",
       "bed           0\n",
       "bath          0\n",
       "acre_lot      0\n",
       "house_size    0\n",
       "dtype: int64"
      ]
     },
     "execution_count": 80,
     "metadata": {},
     "output_type": "execute_result"
    }
   ],
   "source": [
    "result.isna().sum()"
   ]
  },
  {
   "cell_type": "code",
   "execution_count": 81,
   "metadata": {
    "scrolled": false
   },
   "outputs": [
    {
     "data": {
      "image/png": "[encoded data removed]",
      "text/plain": [
       "<Figure size 720x360 with 4 Axes>"
      ]
     },
     "metadata": {
      "needs_background": "light"
     },
     "output_type": "display_data"
    },
    {
     "data": {
      "image/png": "[encoded data removed]",
      "text/plain": [
       "<Figure size 720x360 with 4 Axes>"
      ]
     },
     "metadata": {
      "needs_background": "light"
     },
     "output_type": "display_data"
    }
   ],
   "source": [
    "fig, ((ax1,ax2), (ax3,ax4)) = plt.subplots(nrows = 2,\n",
    "                                          ncols = 2,\n",
    "                                          figsize = (10,5))\n",
    "\n",
    "ax1.hist(df.bed, range=[0,40])\n",
    "ax1.set_title('Zmienna bed przed imputacją')\n",
    "ax2.hist(result.bed, range = [0,60])\n",
    "ax2.set_title('Zmienna bed po imputacji')\n",
    "      \n",
    "ax3.hist(df.bath, range=[0,40])\n",
    "ax3.set_title('Zmienna bath przed imputacją')\n",
    "ax4.hist(result.bath, range = [0,60])\n",
    "ax4.set_title('Zmienna bath po imputacji')\n",
    "\n",
    "\n",
    "fig.tight_layout()\n",
    "plt.subplots_adjust(left=0.1,\n",
    "                    bottom=0.1, \n",
    "                    right=0.9, \n",
    "                    top=1.3, \n",
    "                    wspace=0.4, \n",
    "                    hspace=0.4)\n",
    "plt.show()\n",
    "\n",
    "fig, ((ax1,ax2), (ax3,ax4)) = plt.subplots(nrows = 2,\n",
    "                                          ncols = 2,\n",
    "                                          figsize = (10,5))\n",
    "\n",
    "ax1.hist(df.price, range=[0,40])\n",
    "ax1.set_title('Zmienna price przed imputacją')\n",
    "ax2.hist(result.price, range = [0,60])\n",
    "ax2.set_title('Zmienna price po imputacji')\n",
    "      \n",
    "ax3.hist(df.acre_lot, range=[0,40])\n",
    "ax3.set_title('Zmienna acre_lot przed imputacją')\n",
    "ax4.hist(result.acre_lot, range = [0,60])\n",
    "ax4.set_title('Zmienna acre_lot po imputacji')\n",
    "\n",
    "\n",
    "fig.tight_layout()\n",
    "plt.subplots_adjust(left=0.1,\n",
    "                    bottom=0.1, \n",
    "                    right=0.9, \n",
    "                    top=1.3, \n",
    "                    wspace=0.4, \n",
    "                    hspace=0.4)\n",
    "plt.show()"
   ]
  },
  {
   "cell_type": "markdown",
   "metadata": {},
   "source": [
    "Jak widać powyżej na rozkładach, metoda KNN w doraźny sposób zminimalizowała wartości. Dla wszystkich zmiennych ukazanych powyżej wartości zostały dostosowane w taki sposób, że wyraźnie wpłyneły na rozkład. "
   ]
  },
  {
   "cell_type": "code",
   "execution_count": 82,
   "metadata": {},
   "outputs": [
    {
     "data": {
      "image/png": "[encoded data removed]",
      "text/plain": [
       "<Figure size 720x360 with 2 Axes>"
      ]
     },
     "metadata": {
      "needs_background": "light"
     },
     "output_type": "display_data"
    }
   ],
   "source": [
    "fig, ((ax1,ax2)) = plt.subplots(nrows = 2,\n",
    "                                          ncols = 1,\n",
    "                                          figsize = (10,5))\n",
    "\n",
    "ax1.hist(df.house_size, range=[0,25000])\n",
    "ax1.set_title('Zmienna house_size przed imputacją')\n",
    "ax2.hist(result.house_size, range = [0,25000])\n",
    "ax2.set_title('Zmienna house_size po imputacji')\n",
    "\n",
    "\n",
    "fig.tight_layout()\n",
    "plt.subplots_adjust(left=0.1,\n",
    "                    bottom=0.1, \n",
    "                    right=0.9, \n",
    "                    top=1.3, \n",
    "                    wspace=0.4, \n",
    "                    hspace=0.4)\n",
    "plt.show()"
   ]
  },
  {
   "cell_type": "markdown",
   "metadata": {},
   "source": [
    "W przypadku zmiennej house_size większość wartości brakujących została zaklasyfikowana do przedziału wartości pomiędzy 0 a 2500 tys., co jest raczej dość poprawną predykcją ze względu na wcześniejszy układ zawierający braki."
   ]
  },
  {
   "cell_type": "markdown",
   "metadata": {},
   "source": [
    "# Podsumowanie"
   ]
  },
  {
   "cell_type": "markdown",
   "metadata": {},
   "source": [
    "Celem powyższych rozważań było przedstawienie wybranych metod imputacji danych. Przedstawiona została metoda uzupełniania braków danych wartościami średnimi, medianą, regresją oraz metodą K-najbliższego sąsiada. Uważam, że najbardziej racjonalną formą uzupełniania braków jest użycie ostatniej metody KNN. Niemniej jednak jeśli występują oznaki występowania istotności pomiędzy zmiennymi to warto również spróbować metody regresji. W przypadku takich działań warto jest przed przeprowadzić symulację wartości brakujących by móc oszacować celność predykcji różnych metod. W niniejszej pracy w przypadku procesu imputacji\n",
    "opierałem się na realnych brakach danych."
   ]
  }
 ],
 "metadata": {
  "kernelspec": {
   "display_name": "Python 3",
   "language": "python",
   "name": "python3"
  },
  "language_info": {
   "codemirror_mode": {
    "name": "ipython",
    "version": 3
   },
   "file_extension": ".py",
   "mimetype": "text/x-python",
   "name": "python",
   "nbconvert_exporter": "python",
   "pygments_lexer": "ipython3",
   "version": "3.9.0"
  }
 },
 "nbformat": 4,
 "nbformat_minor": 4
}
